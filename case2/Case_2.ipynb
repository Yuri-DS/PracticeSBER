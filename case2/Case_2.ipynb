{
 "cells": [
  {
   "cell_type": "markdown",
   "metadata": {
    "id": "8LP5My523fCb"
   },
   "source": [
    "# **Разработка системы рекомендаций для стримингового сервиса**\n",
    "\n",
    "## Цель работы \n",
    "Состоит в разработке эффективной системы персонализированных рекомендаций для стримингового сервиса, с целью увеличения вовлеченности пользователей и времени, проводимого на платформе.\n",
    "\n",
    "## Задачи\n",
    "1. Провести анализ предоставленных данных о пользователях и их взаимодействии с контентом\n",
    "2. Разработать и обучить несколько моделей рекомендаций (коллаборативная фильтрация, контентная фильтрация, гибридные подходы)\n",
    "3. Разработать метрики для оценки качества рекомендаций\n",
    "4. Реализовать механизм решения проблемы \"холодного старта\" для новых пользователей\n"
   ]
  },
  {
   "cell_type": "markdown",
   "metadata": {
    "id": "U5d1GUnb6Phx"
   },
   "source": [
    "## Датасеты\n",
    "1. **Last.fm HetRec 2011** от GroupLens\n",
    "\n",
    "Общее описание: Данные о пользователях, их прослушиваниях, тегах и социальных связях из музыкального сервиса Last.fm.\n",
    "\n",
    "Файлы:\n",
    "- `artists.dat`  \n",
    "Структура: id | name | url | pictureURL  \n",
    "Описание: Список артистов с их идентификаторами, названиями, ссылками на Last.fm и URL обложек.  \n",
    "\n",
    "- `tags.dat`    \n",
    "Структура: tagID | tagValue   \n",
    "Описание: Словарь тегов (например, \"metal\", \"rock\"), которые пользователи присваивают артистам.\n",
    "\n",
    "- `user_artists.dat`   \n",
    "Структура: userID | artistID | weight  \n",
    "Описание: Количество прослушиваний артистов пользователями. Чем выше weight, тем чаще пользователь слушал артиста.\n",
    "\n",
    "- `user_taggedartists.dat`  \n",
    "Структура: userID | artistID | tagID | day | month | year  \n",
    "Описание: Разметка артистов тегами от пользователей с указанием даты.\n",
    "\n",
    "- `user_taggedartists-timestamps.dat`   \n",
    "Структура: userID | artistID | tagID | timestamp   \n",
    "Описание: Аналогично предыдущему, но с Unix-временем вместо даты.\n",
    "\n",
    "- `user_friends.dat`  \n",
    "Структура: userID | friendID  \n",
    "Описание: Социальные связи между пользователями (кто с кем \"дружит\").\n",
    "\n",
    "2. **MovieLens 25M Dataset**\n",
    "\n",
    "Общее описание:\n",
    "Данные о фильмах, оценках пользователей, тегах и связях с внешними базами (IMDb, TMDb).\n",
    "\n",
    "Файлы:\n",
    "\n",
    "- `movies.csv`  \n",
    "Структура: movieId | title | genres  \n",
    "Описание: Список фильмов с их названиями (включая год выпуска) и жанрами (разделены \"|\").\n",
    "\n",
    "- `ratings.csv`  \n",
    "Структура: userId | movieId | rating | timestamp  \n",
    "Описание: Оценки пользователей по шкале от 0.5 до 5.0 с временными метками.\n",
    "\n",
    "- `tags.csv`  \n",
    "Структура: userId | movieId | tag | timestamp  \n",
    "Описание: Произвольные теги, которые пользователи присваивают фильмам (например, \"classic\", \"sci-fi\").\n",
    "\n",
    "- `genome-scores.csv`  \n",
    "Структура: movieId | tagId | relevance  \n",
    "Описание: Релевантность тегов из genome-tags для каждого фильма (вес от 0 до 1).\n",
    "\n",
    "- `genome-tags.csv`  \n",
    "Структура: tagId | tag    \n",
    "Описание: Описание тегов из genome-scores (например, \"sci-fi\", \"action\").\n",
    "\n",
    "- `links.csv`  \n",
    "Структура: movieId | imdbId | tmdbId  \n",
    "Описание: Связи с идентификаторами IMDb и TMDb для каждого фильма."
   ]
  },
  {
   "cell_type": "markdown",
   "metadata": {},
   "source": [
    "**Загрузка зависимостей**"
   ]
  },
  {
   "cell_type": "code",
   "execution_count": 1,
   "metadata": {},
   "outputs": [],
   "source": [
    "import pandas as pd\n",
    "import numpy as np\n",
    "import matplotlib.pyplot as plt\n",
    "import seaborn as sns\n",
    "from sklearn.neighbors import NearestNeighbors\n",
    "from sklearn.metrics import pairwise_distances\n",
    "from sklearn.metrics.pairwise import cosine_similarity\n",
    "from sklearn.model_selection import train_test_split\n",
    "from sklearn.feature_extraction.text import TfidfVectorizer\n",
    "from scipy.sparse import csr_matrix, save_npz, load_npz\n",
    "import os\n",
    "from time import time\n",
    "from joblib import Parallel, delayed"
   ]
  },
  {
   "cell_type": "markdown",
   "metadata": {
    "id": "XfUXueDd3nYi"
   },
   "source": [
    "# Анализ предоставленных данных о пользователях и их взаимодействии с контентом"
   ]
  },
  {
   "cell_type": "markdown",
   "metadata": {
    "id": "cFsYFpdJ37da"
   },
   "source": [
    "## **Last.fm Dataset**"
   ]
  },
  {
   "cell_type": "markdown",
   "metadata": {
    "id": "TTXQTfZE5CR6"
   },
   "source": [
    "**Загрузка данных**"
   ]
  },
  {
   "cell_type": "code",
   "execution_count": 2,
   "metadata": {
    "id": "2RypN4fR5AmG"
   },
   "outputs": [],
   "source": [
    "artists = pd.read_csv('artists.dat', sep='\\t')\n",
    "user_artists = pd.read_csv('user_artists.dat', sep='\\t')\n",
    "tags = pd.read_csv('tags.dat', sep='\\t', encoding='ISO-8859-1')\n",
    "user_tags = pd.read_csv('user_taggedartists.dat', sep='\\t')\n",
    "user_friends = pd.read_csv('user_friends.dat', sep='\\t')"
   ]
  },
  {
   "cell_type": "markdown",
   "metadata": {
    "id": "TTXQTfZE5CR6"
   },
   "source": [
    "**Основные статистики**"
   ]
  },
  {
   "cell_type": "code",
   "execution_count": 3,
   "metadata": {
    "colab": {
     "base_uri": "https://localhost:8080/"
    },
    "id": "NUt6bfdY5MHd",
    "outputId": "33edd021-760d-4540-a541-9c7912968afb"
   },
   "outputs": [
    {
     "name": "stdout",
     "output_type": "stream",
     "text": [
      "Количество артистов: 17632\n",
      "Пример данных:\n",
      "\n"
     ]
    },
    {
     "data": {
      "text/html": [
       "<div>\n",
       "<style scoped>\n",
       "    .dataframe tbody tr th:only-of-type {\n",
       "        vertical-align: middle;\n",
       "    }\n",
       "\n",
       "    .dataframe tbody tr th {\n",
       "        vertical-align: top;\n",
       "    }\n",
       "\n",
       "    .dataframe thead th {\n",
       "        text-align: right;\n",
       "    }\n",
       "</style>\n",
       "<table border=\"1\" class=\"dataframe\">\n",
       "  <thead>\n",
       "    <tr style=\"text-align: right;\">\n",
       "      <th></th>\n",
       "      <th>id</th>\n",
       "      <th>name</th>\n",
       "      <th>url</th>\n",
       "      <th>pictureURL</th>\n",
       "    </tr>\n",
       "  </thead>\n",
       "  <tbody>\n",
       "    <tr>\n",
       "      <th>0</th>\n",
       "      <td>1</td>\n",
       "      <td>MALICE MIZER</td>\n",
       "      <td>http://www.last.fm/music/MALICE+MIZER</td>\n",
       "      <td>http://userserve-ak.last.fm/serve/252/10808.jpg</td>\n",
       "    </tr>\n",
       "    <tr>\n",
       "      <th>1</th>\n",
       "      <td>2</td>\n",
       "      <td>Diary of Dreams</td>\n",
       "      <td>http://www.last.fm/music/Diary+of+Dreams</td>\n",
       "      <td>http://userserve-ak.last.fm/serve/252/3052066.jpg</td>\n",
       "    </tr>\n",
       "    <tr>\n",
       "      <th>2</th>\n",
       "      <td>3</td>\n",
       "      <td>Carpathian Forest</td>\n",
       "      <td>http://www.last.fm/music/Carpathian+Forest</td>\n",
       "      <td>http://userserve-ak.last.fm/serve/252/40222717...</td>\n",
       "    </tr>\n",
       "  </tbody>\n",
       "</table>\n",
       "</div>"
      ],
      "text/plain": [
       "   id               name                                         url  \\\n",
       "0   1       MALICE MIZER       http://www.last.fm/music/MALICE+MIZER   \n",
       "1   2    Diary of Dreams    http://www.last.fm/music/Diary+of+Dreams   \n",
       "2   3  Carpathian Forest  http://www.last.fm/music/Carpathian+Forest   \n",
       "\n",
       "                                          pictureURL  \n",
       "0    http://userserve-ak.last.fm/serve/252/10808.jpg  \n",
       "1  http://userserve-ak.last.fm/serve/252/3052066.jpg  \n",
       "2  http://userserve-ak.last.fm/serve/252/40222717...  "
      ]
     },
     "metadata": {},
     "output_type": "display_data"
    }
   ],
   "source": [
    "# Артисты:\n",
    "print(\"Количество артистов:\", artists['id'].nunique())\n",
    "print(\"Пример данных:\\n\")\n",
    "display(artists.head(3))"
   ]
  },
  {
   "cell_type": "code",
   "execution_count": 4,
   "metadata": {
    "colab": {
     "base_uri": "https://localhost:8080/"
    },
    "id": "_SlC-ydv5OaR",
    "outputId": "4146811f-4a5a-4ed2-8e9c-3f01c52a1a7d"
   },
   "outputs": [
    {
     "name": "stdout",
     "output_type": "stream",
     "text": [
      "Количество уникальных артистов: 1892\n",
      "Среднее количество прослушиваний на одного пользователя: 36566.58\n",
      "Медиана прослушиваний: 21573\n",
      "Мода прослушиваний: 4\n"
     ]
    }
   ],
   "source": [
    "# Прослушивания:\n",
    "print(\"Количество уникальных артистов:\", user_artists['userID'].nunique())\n",
    "user_listens = user_artists.groupby('userID')['weight'].sum()\n",
    "print(f\"Среднее количество прослушиваний на одного пользователя: {user_listens.mean():.2f}\")\n",
    "print(f\"Медиана прослушиваний: {user_listens.median():.0f}\")\n",
    "print(\"Мода прослушиваний:\", user_listens.mode().iloc[0])"
   ]
  },
  {
   "cell_type": "code",
   "execution_count": 5,
   "metadata": {},
   "outputs": [
    {
     "data": {
      "image/png": "[encoded data removed]",
      "text/plain": [
       "<Figure size 1000x500 with 1 Axes>"
      ]
     },
     "metadata": {},
     "output_type": "display_data"
    }
   ],
   "source": [
    "# Топ-10 артистов по прослушиваниям\n",
    "top_artists = (\n",
    "    user_artists.groupby('artistID')['weight']\n",
    "    .sum()\n",
    "    .sort_values(ascending=False)\n",
    "    .head(10)\n",
    "    .reset_index()\n",
    ")\n",
    "\n",
    "# Выводить артистов будем по их именам, а не просто по айди\n",
    "top_artists = top_artists.merge(artists[['id', 'name']], left_on='artistID', right_on='id')\n",
    "\n",
    "top_artists.set_index('name')['weight'].plot(\n",
    "    kind='bar',\n",
    "    title='Топ-10 артистов по прослушиваниям',\n",
    "    figsize=(10, 5),\n",
    "    color='skyblue',\n",
    "    legend=False,\n",
    ")\n",
    "\n",
    "plt.ylabel('Количество прослушиваний')\n",
    "plt.xticks(rotation=45)\n",
    "plt.tight_layout()\n",
    "plt.show()"
   ]
  },
  {
   "cell_type": "code",
   "execution_count": 6,
   "metadata": {},
   "outputs": [
    {
     "data": {
      "image/png": "[encoded data removed]",
      "text/plain": [
       "<Figure size 1000x500 with 1 Axes>"
      ]
     },
     "metadata": {},
     "output_type": "display_data"
    }
   ],
   "source": [
    "# Топ-10 тегов по количеству юзеров\n",
    "top_tags = (\n",
    "    user_tags.groupby('tagID')['userID']\n",
    "    .count()\n",
    "    .sort_values(ascending=False)\n",
    "    .head(10)\n",
    "    .reset_index()\n",
    ")\n",
    "\n",
    "top_tags = top_tags.merge(tags[['tagID', 'tagValue']], on='tagID')\n",
    "\n",
    "top_tags.set_index('tagValue')['userID'].plot(\n",
    "    kind='bar',\n",
    "    title='Топ-10 тегов по количеству юзеров',\n",
    "    figsize=(10, 5),\n",
    "    color='skyblue',\n",
    "    legend=False,\n",
    ")\n",
    "\n",
    "plt.ylabel('Количество прослушиваний')\n",
    "plt.xticks(rotation=45)\n",
    "plt.tight_layout()\n",
    "plt.show()"
   ]
  },
  {
   "cell_type": "code",
   "execution_count": 7,
   "metadata": {},
   "outputs": [
    {
     "data": {
      "image/png": "[encoded data removed]",
      "text/plain": [
       "<Figure size 640x480 with 1 Axes>"
      ]
     },
     "metadata": {},
     "output_type": "display_data"
    }
   ],
   "source": [
    "plt.hist(user_listens, bins=50, log=False, color='orange')\n",
    "plt.title('Распределение количества прослушиваний (на одного юзера)')\n",
    "plt.xlabel('Прослушивания')\n",
    "plt.ylabel('Частота')\n",
    "plt.show()"
   ]
  },
  {
   "cell_type": "code",
   "execution_count": 8,
   "metadata": {},
   "outputs": [
    {
     "data": {
      "text/plain": [
       "artistID\n",
       "50    1829\n",
       "1        8\n",
       "4        5\n",
       "10       3\n",
       "43       3\n",
       "14       3\n",
       "15       2\n",
       "49       2\n",
       "12       2\n",
       "33       2\n",
       "34       2\n",
       "11       2\n",
       "38       2\n",
       "44       2\n",
       "37       2\n",
       "48       2\n",
       "41       2\n",
       "32       2\n",
       "2        1\n",
       "7        1\n",
       "46       1\n",
       "35       1\n",
       "18       1\n",
       "30       1\n",
       "5        1\n",
       "25       1\n",
       "28       1\n",
       "3        1\n",
       "21       1\n",
       "9        1\n",
       "27       1\n",
       "13       1\n",
       "22       1\n",
       "36       1\n",
       "40       1\n",
       "Name: count, dtype: int64"
      ]
     },
     "execution_count": 8,
     "metadata": {},
     "output_type": "execute_result"
    }
   ],
   "source": [
    "# Посмотрим сколько уникальных артистов слушают юзеры\n",
    "user_artists.groupby('userID')['artistID'].nunique().value_counts()"
   ]
  },
  {
   "cell_type": "markdown",
   "metadata": {},
   "source": [
    "**Основные моменты:**  \n",
    "1. Масштаб данных:  \n",
    "* 18,632 артиста и 1,892 пользователя  \n",
    "* Среднее число прослушиваний на пользователя: 36,566 (сильный перекос в сторону активных слушателей)\n",
    "* Факт, что почти все слушатели одновременно слушают ровно по 50 разных артистов может быть связан с особенностью отбора данных командой GroupLens для конференции HetRec 2011. \n",
    "\n",
    "2. Распределение прослушиваний:  \n",
    "* График показывает правостороннее распределение — большинство пользователей слушают немного, но есть \"супер-фанаты\" с сотнями тысяч прослушиваний.  \n",
    "* Топ-артисты: Lady Gaga, Britney Spears, The Beatles (поп- и рок-исполнители с мировой славой).  \n",
    "\n",
    "3. Теги:  \n",
    "* Популярные теги: `pop`, `rock` и их разновидности — явное преобладание мейнстрим-жанров. Пользователи в основном ориентируются на известные и легко узнаваемые музыкальные стили. "
   ]
  },
  {
   "cell_type": "markdown",
   "metadata": {
    "id": "-YpXoxPM5gTS"
   },
   "source": [
    "## **MovieLens 25M Dataset**"
   ]
  },
  {
   "cell_type": "markdown",
   "metadata": {
    "id": "RSgUdVb75jLq"
   },
   "source": [
    "**Загрузка данных**"
   ]
  },
  {
   "cell_type": "code",
   "execution_count": 9,
   "metadata": {
    "id": "qw-h-Xo25qSc"
   },
   "outputs": [],
   "source": [
    "movies = pd.read_csv('movies.csv')\n",
    "ratings = pd.read_csv('ratings.csv')\n",
    "genome_tags = pd.read_csv('genome-tags.csv')\n",
    "genome_scores = pd.read_csv('genome-scores.csv')\n",
    "tags = pd.read_csv('tags.csv')"
   ]
  },
  {
   "cell_type": "markdown",
   "metadata": {
    "id": "4-b2prmy5tue"
   },
   "source": [
    "**Основные статистики**"
   ]
  },
  {
   "cell_type": "code",
   "execution_count": 10,
   "metadata": {
    "colab": {
     "base_uri": "https://localhost:8080/"
    },
    "id": "W4Wf5J5m5u_O",
    "outputId": "713b5bcd-6a5c-4e6d-eaae-e33fda20bfe5"
   },
   "outputs": [
    {
     "name": "stdout",
     "output_type": "stream",
     "text": [
      "Количество фильмов: 62423\n",
      "Пример жанров:\n",
      " genres\n",
      "Drama                 25606\n",
      "Comedy                16870\n",
      "Thriller               8654\n",
      "Romance                7719\n",
      "Action                 7348\n",
      "Horror                 5989\n",
      "Documentary            5605\n",
      "Crime                  5319\n",
      "(no genres listed)     5062\n",
      "Adventure              4145\n",
      "Sci-Fi                 3595\n",
      "Children               2935\n",
      "Animation              2929\n",
      "Mystery                2925\n",
      "Fantasy                2731\n",
      "War                    1874\n",
      "Western                1399\n",
      "Musical                1054\n",
      "Film-Noir               353\n",
      "IMAX                    195\n",
      "Name: count, dtype: int64\n"
     ]
    }
   ],
   "source": [
    "# Фильмы:\n",
    "print(\"Количество фильмов:\", movies['movieId'].nunique())\n",
    "print(\"Пример жанров:\\n\", movies['genres'].str.split('|').explode().value_counts())"
   ]
  },
  {
   "cell_type": "code",
   "execution_count": 11,
   "metadata": {
    "colab": {
     "base_uri": "https://localhost:8080/",
     "height": 507
    },
    "id": "Rjaq_qkzIuTC",
    "outputId": "ac58a0b1-4188-4820-9320-1beb83b090ff"
   },
   "outputs": [
    {
     "data": {
      "image/png": "[encoded data removed]",
      "text/plain": [
       "<Figure size 1200x500 with 1 Axes>"
      ]
     },
     "metadata": {},
     "output_type": "display_data"
    }
   ],
   "source": [
    "# Топ-10 фильмов по количеству оценок:\n",
    "top_movies = (\n",
    "    ratings['movieId'].value_counts()\n",
    "    .head(10)\n",
    "    .reset_index()\n",
    "    .merge( \n",
    "        movies[['movieId', 'title']],\n",
    "        left_on='movieId',\n",
    "        right_on='movieId',\n",
    "        how='left'\n",
    "    )\n",
    "    .set_index('title')\n",
    "    ['count']\n",
    ")\n",
    "\n",
    "# Строим график\n",
    "top_movies.plot(\n",
    "    kind='bar',\n",
    "    title='Топ-10 фильмов по количеству оценок',\n",
    "    figsize=(12, 5),\n",
    "    color='skyblue',\n",
    "    edgecolor='black'\n",
    ")\n",
    "plt.ylabel('Количество оценок')\n",
    "plt.xticks(rotation=45, ha='right')\n",
    "plt.tight_layout()\n",
    "plt.show()"
   ]
  },
  {
   "cell_type": "code",
   "execution_count": 12,
   "metadata": {
    "colab": {
     "base_uri": "https://localhost:8080/"
    },
    "id": "UVsFT-WC51IG",
    "outputId": "4c596810-2773-4ac3-fbdc-1dee4900a841"
   },
   "outputs": [
    {
     "name": "stdout",
     "output_type": "stream",
     "text": [
      "Количество пользователей 162541\n",
      "Количество оценок: 25000095\n",
      "Средняя оценка: 3.53\n",
      "Медианная оценка: 3.5\n",
      "Мода оценок: 4\n",
      "\n",
      "Распределение оценок:\n",
      " rating\n",
      "0.5     393068\n",
      "1.0     776815\n",
      "1.5     399490\n",
      "2.0    1640868\n",
      "2.5    1262797\n",
      "3.0    4896928\n",
      "3.5    3177318\n",
      "4.0    6639798\n",
      "4.5    2200539\n",
      "5.0    3612474\n",
      "Name: count, dtype: int64\n"
     ]
    }
   ],
   "source": [
    "# Оценки:\n",
    "print(\"Количество пользователей\", ratings['userId'].nunique())\n",
    "print(\"Количество оценок:\", len(ratings))\n",
    "print(f\"Средняя оценка: {ratings['rating'].mean():.2f}\")\n",
    "print(\"Медианная оценка:\", ratings['rating'].median())\n",
    "print(\"Мода оценок:\", int(ratings['rating'].mode().iloc[0]))\n",
    "print(\"\\nРаспределение оценок:\\n\", ratings['rating'].value_counts().sort_index())"
   ]
  },
  {
   "cell_type": "code",
   "execution_count": 13,
   "metadata": {
    "colab": {
     "base_uri": "https://localhost:8080/",
     "height": 472
    },
    "id": "jglO-Tma6DPX",
    "outputId": "14b1a1c8-1836-43e1-f9f2-495409999228"
   },
   "outputs": [
    {
     "data": {
      "image/png": "[encoded data removed]",
      "text/plain": [
       "<Figure size 640x480 with 1 Axes>"
      ]
     },
     "metadata": {},
     "output_type": "display_data"
    }
   ],
   "source": [
    "# Распределение оценок:\n",
    "ratings['rating'].hist(bins=10, color='purple')\n",
    "plt.title('Распределение оценок')\n",
    "plt.xlabel('Оценка')\n",
    "plt.ylabel('Частота')\n",
    "plt.show()"
   ]
  },
  {
   "cell_type": "code",
   "execution_count": 14,
   "metadata": {},
   "outputs": [
    {
     "data": {
      "image/png": "[encoded data removed]",
      "text/plain": [
       "<Figure size 640x480 with 1 Axes>"
      ]
     },
     "metadata": {},
     "output_type": "display_data"
    }
   ],
   "source": [
    "# Распределение колчиества оценок на одного пользователя\n",
    "plt.hist(ratings.groupby('userId')['movieId'].count(), bins=50, log=True, color='orange')\n",
    "plt.title('Распределение количества оценок на одного юзера (лог. шкала)')\n",
    "plt.xlabel('Проставлено оценок')\n",
    "plt.ylabel('Частота')\n",
    "plt.show()"
   ]
  },
  {
   "cell_type": "code",
   "execution_count": 15,
   "metadata": {
    "colab": {
     "base_uri": "https://localhost:8080/"
    },
    "id": "xO3YsGMJ54BV",
    "outputId": "07653d6e-4787-4c32-c386-d704d4210245"
   },
   "outputs": [
    {
     "name": "stdout",
     "output_type": "stream",
     "text": [
      "Популярные пользовательские теги:\n",
      " tag\n",
      "sci-fi                8330\n",
      "atmospheric           6516\n",
      "action                5907\n",
      "comedy                5702\n",
      "surreal               5326\n",
      "based on a book       5079\n",
      "twist ending          4820\n",
      "funny                 4738\n",
      "visually appealing    4526\n",
      "dystopia              4257\n",
      "Name: count, dtype: int64\n"
     ]
    }
   ],
   "source": [
    "# Теги\n",
    "print(\"Популярные пользовательские теги:\\n\", tags['tag'].value_counts().head(10))"
   ]
  },
  {
   "cell_type": "markdown",
   "metadata": {
    "id": "Jzqi3KxrLEWc"
   },
   "source": [
    "**Основные моменты:**  \n",
    "1. Масштаб данных:  \n",
    "* 62,423 фильма и 25 млн оценок от (162 тыс.) пользователей.  \n",
    "* Средний рейтинг: 3.53 (скошенное распределение с пиком на 4.0).  \n",
    "\n",
    "2. Жанры:  \n",
    "* Доминируют Drama (25.6 тыс.) и Comedy (16.9 тыс.).  \n",
    "* Редкие жанры: Film-Noir (353), IMAX (195).  \n",
    "\n",
    "3. Топ фильмов:  \n",
    "* Лидеры по количеству оценок: *Forrest Gump*, *The Shawshank Redemption*, *Pulp Fiction* (классика 1990-х).  \n",
    "\n",
    "4. Пользовательские теги:  \n",
    "* Чаще всего отмечают: `sci-fi`, `atmospheric`, `action` — совпадает с популярными жанрами.  "
   ]
  },
  {
   "cell_type": "markdown",
   "metadata": {},
   "source": [
    "## **Выводы**  \n",
    "- Слушатели из обоих датасетов в целом отражают самые массовые вкусы — как в музыке, так и в кино. \n",
    "- Оба датасета показывают скошенное вправо распределение прослушиваний и оценок — т. е. большинство пользователей взаимодействуют с контентом относительно редко, в то время как небольшая группа проявляет очень высокую активность. Это говорит о типичном для таких платформ эффекте: основная масса пользователей пассивна, наибольший вклад вносят самые активные участники.\n",
    "- Для рекомендательных систем важно учитывать жанры и теги, особенно для холодного старта. В нашем случае, учитывая популярность жанров поп и других широко распространённых направлений — при холодном старте можно ориентироваться именно на эти теги и жанры. Это позволит быстро формировать рекомендации новым пользователям, пока не собран массив данных об их поведении.\n",
    "\n",
    "*P.S. Скошенное вправо распределение — это распределение, в котором правый хвост длиннее левого*"
   ]
  },
  {
   "cell_type": "markdown",
   "metadata": {
    "id": "425v7JscMw7L"
   },
   "source": [
    "# Модели рекомендаций\n",
    "[Цикл статьей про рекомендательные системы на Яндекс](https://education.yandex.ru/handbook/ml/article/intro-recsys)"
   ]
  },
  {
   "cell_type": "markdown",
   "metadata": {
    "id": "07L3pIgjM_QX"
   },
   "source": [
    "## Коллаборативная фильтрация\n",
    "Коллаборативная фильтрация (Collaborative Filtering, CF) — это алгоритм рекомендательных систем, основанный на анализе взаимодействий пользователей с элементами (например, музыкой или фильмами) без необходимости использовать явную информацию о содержимом этих элементов.\n",
    "\n",
    "Формально:\n",
    "* $U = \\{u_1, u_2, ..., u_m\\}$ — множество пользователей,\n",
    "* $I = \\{i_1, i_2, ..., i_n\\}$ — множество объектов (элементов рекомендаций),\n",
    "* $R = [r_{u,i}]$ — матрица взаимодействий или оценок, где $r_{u,i}$ — взаимодействие (например, оценка или факт прослушивания) пользователя $u$ с элементом $i$.\n",
    "\n",
    "**Задача коллаборативной фильтрации** — на основе известных значений $r_{u,i}$ предсказать неизвестные взаимодействия $\\hat{r}_{u,j}$ для пользователя $u$ и элемента $j$, чтобы рекомендовать элементы с наивысшими предсказанными значениями.\n",
    "\n",
    "Коллаборативная фильтрация бывает двух основных типов:\n",
    "\n",
    "1. **User-based:** Рекомендации строятся на основе схожести между пользователями. Элементы рекомендуются пользователю $u$, которые понравились пользователям, похожим на $u$.\n",
    "\n",
    "2. **Item-based:** Рекомендации строятся на основе схожести между элементами. Элементы, похожие на те, которые пользователь уже оценил или использовал, рекомендуются ему.\n",
    "\n",
    "Основное предположение: **похожие пользователи имеют схожие предпочтения**, либо **похожие элементы интересны одним и тем же пользователям**.\n",
    "\n",
    "Коллаборативная фильтрация **не требует знаний о содержимом** элементов, **опирается только на статистику** взаимодействий, что позволяет выявлять скрытые паттерны интересов и предпочтений."
   ]
  },
  {
   "cell_type": "markdown",
   "metadata": {},
   "source": [
    "_______________________________________\n",
    "В нашей реализации был выбран подход, основанный на пользовательской коллаборативной фильтрации (user-based), поскольку количество пользователей в рассматриваемом случае является достаточно ограниченным для эффективной работы данного метода. Кроме того, в датасете LastFM число артистов меньше числа слушателей, что негативно влияет на качество рекомендаций в item-based модели. Конечно, в системах с миллионами пользователей и относительно небольшим количеством объектов рекомендуется отдавать предпочтение item-based подходу."
   ]
  },
  {
   "cell_type": "markdown",
   "metadata": {
    "id": "5T844GzTND_3"
   },
   "source": [
    "### **Last.fm (музыка)**"
   ]
  },
  {
   "cell_type": "code",
   "execution_count": 16,
   "metadata": {
    "colab": {
     "base_uri": "https://localhost:8080/"
    },
    "id": "xO60BJiaNZ0y",
    "outputId": "52eac248-0f4c-4d01-b1b5-505b029e9959"
   },
   "outputs": [
    {
     "name": "stdout",
     "output_type": "stream",
     "text": [
      "Ближайшие пользователи: Index([2, 428, 1210, 1866, 374], dtype='int64', name='userID')\n"
     ]
    }
   ],
   "source": [
    "# Создаем матрицу \"пользователь x артист\"\n",
    "user_artist_matrix = user_artists.pivot_table(\n",
    "    index='userID',\n",
    "    columns='artistID',\n",
    "    values='weight',\n",
    "    fill_value=0\n",
    ")\n",
    "\n",
    "# Модель KNN\n",
    "model = NearestNeighbors(n_neighbors=5, metric='cosine')\n",
    "model.fit(user_artist_matrix)\n",
    "\n",
    "# Пример рекомендаций для пользователя 1\n",
    "distances, indices = model.kneighbors(user_artist_matrix.iloc[0:1])\n",
    "print(\"Ближайшие пользователи:\", user_artist_matrix.index[indices[0]])"
   ]
  },
  {
   "cell_type": "markdown",
   "metadata": {
    "id": "KWVIQSCjNGan"
   },
   "source": [
    "### **MovieLens (фильмы)**"
   ]
  },
  {
   "cell_type": "code",
   "execution_count": 17,
   "metadata": {
    "colab": {
     "base_uri": "https://localhost:8080/"
    },
    "id": "TySrrfKMPmjk",
    "outputId": "cb635391-6e0e-4131-b5c7-3dfe95f3efc7"
   },
   "outputs": [
    {
     "name": "stdout",
     "output_type": "stream",
     "text": [
      "['Spirited Away (Sen to Chihiro no kamikakushi) (2001)', 'Adaptation (2002)', 'My Neighbor Totoro (Tonari no Totoro) (1988)', 'To Be and to Have (Être et avoir) (2002)', 'Dolls (2002)']\n"
     ]
    }
   ],
   "source": [
    "# Загрузка данных с выборкой (если данных слишком много)\n",
    "ratings = pd.read_csv('ratings.csv')\n",
    "movies = pd.read_csv('movies.csv')\n",
    "\n",
    "# Уменьшаем размер данных (берем только 5% случайных пользователей)\n",
    "user_sample = np.random.choice(ratings['userId'].unique(),\n",
    "                              size=int(len(ratings['userId'].unique())*0.05),\n",
    "                              replace=False)\n",
    "ratings_sample = ratings[ratings['userId'].isin(user_sample)]\n",
    "\n",
    "# Создаем разреженную матрицу\n",
    "user_movie_matrix = ratings_sample.pivot_table(\n",
    "    index='userId',\n",
    "    columns='movieId',\n",
    "    values='rating',\n",
    "    fill_value=0\n",
    ")\n",
    "\n",
    "# Уменьшаем размерность (берем только популярные фильмы)\n",
    "top_movies = ratings['movieId'].value_counts().head(1000).index\n",
    "user_movie_matrix = user_movie_matrix[top_movies]\n",
    "\n",
    "# Модель KNN с уменьшенными параметрами\n",
    "model = NearestNeighbors(n_neighbors=3, metric='cosine', algorithm='brute')\n",
    "model.fit(user_movie_matrix)\n",
    "\n",
    "# Функция рекомендаций с проверкой\n",
    "def recommend_for_user(user_id, n_recommendations=5):\n",
    "    try:\n",
    "        if user_id not in user_movie_matrix.index:\n",
    "            return \"Пользователь не найден в выборке\"\n",
    "\n",
    "        distances, indices = model.kneighbors([user_movie_matrix.loc[user_id]])\n",
    "        similar_users = user_movie_matrix.index[indices[0]]\n",
    "\n",
    "        top_movies = (\n",
    "            ratings[ratings['userId'].isin(similar_users)]\n",
    "            .groupby('movieId')['rating']\n",
    "            .mean()\n",
    "            .sort_values(ascending=False)\n",
    "            .head(n_recommendations)\n",
    "            .index\n",
    "        )\n",
    "        return movies[movies['movieId'].isin(top_movies)]['title'].tolist()\n",
    "    except MemoryError:\n",
    "        return \"Недостаточно памяти. Попробуйте уменьшить размер выборки.\"\n",
    "\n",
    "print(recommend_for_user(user_movie_matrix.index[0]))  # Первый пользователь в выборке"
   ]
  },
  {
   "cell_type": "markdown",
   "metadata": {
    "id": "dvxoLklbQuzQ"
   },
   "source": [
    "## Контентная фильтрация\n",
    "Контентная фильтрация (Content-Based Filtering) — метод рекомендательных систем, который формирует рекомендации на основе анализа характеристик (признаков) самих элементов и профиля пользователя, созданного из истории его взаимодействий.\n",
    "\n",
    "Формально:\n",
    "\n",
    "* $I = \\{i_1, i_2, ..., i_n\\}$ — множество элементов,\n",
    "* для каждого элемента $i$ задан вектор признаков $\\mathbf{x}_i = (x_{i1}, x_{i2}, ..., x_{id})$, описывающий его свойства (жанр, исполнитель, теги, описание и т.п.),\n",
    "* $U = \\{u_1, u_2, ..., u_m\\}$ — множество пользователей,\n",
    "* для каждого пользователя $u$ формируется профиль $\\mathbf{p}_u$, агрегирующий признаки элементов, которые пользователь использовал или оценил.\n",
    "\n",
    "**Задача контентной фильтрации** — предсказать релевантность элемента $i$ для пользователя $u$ на основе сходства между вектором признаков элемента $\\mathbf{x}_i$ и профилем пользователя $\\mathbf{p}_u$.\n",
    "\n",
    "Основное предположение: **пользователь заинтересован в элементах, схожих по характеристикам с уже понравившимися ему элементами**.\n",
    "\n",
    "Контентная фильтрация имеет следующие особенности:\n",
    "\n",
    "* Не зависит от других пользователей, может рекомендовать даже для новых пользователей (если есть хоть одна история),\n",
    "* Требует наличия качественного и информативного описания элементов,\n",
    "* Может страдать от ограниченного разнообразия рекомендаций (рекомендуется одно и то же подмножество элементов),\n",
    "* Позволяет объяснять рекомендации, опираясь на свойства элементов.\n",
    "\n",
    "Таким образом, контентная фильтрация базируется на **свойствах элементов и индивидуальных предпочтениях пользователя**, а не на коллективном опыте всего множества юзеров."
   ]
  },
  {
   "cell_type": "markdown",
   "metadata": {
    "id": "qkCwLVYUQxu-"
   },
   "source": [
    "### **Для Last.fm (по тегам артистов)**"
   ]
  },
  {
   "cell_type": "code",
   "execution_count": 18,
   "metadata": {
    "colab": {
     "base_uri": "https://localhost:8080/"
    },
    "id": "0JSxH8fsQz6k",
    "outputId": "357c6572-d1eb-4d4e-cf87-471f84182313"
   },
   "outputs": [
    {
     "name": "stderr",
     "output_type": "stream",
     "text": [
      "/tmp/ipython-input-5-2549021086.py:7: DtypeWarning: Columns (0,1,2,3,4,5) have mixed types. Specify dtype option on import or set low_memory=False.\n",
      "  user_tags = pd.read_csv('user_taggedartists.dat', sep='\\t',\n"
     ]
    },
    {
     "name": "stdout",
     "output_type": "stream",
     "text": [
      "17516     8438\n",
      "15101     5184\n",
      "3107      5197\n",
      "5031     10536\n",
      "6107     14256\n",
      "Name: artistID, dtype: object\n"
     ]
    }
   ],
   "source": [
    "# Загрузка данных (если ещё не загружены)\n",
    "try:\n",
    "    user_tags = pd.read_csv('user_taggedartists.dat', sep='\\t',\n",
    "                          names=['userID', 'artistID', 'tagID', 'day', 'month', 'year'])\n",
    "    tags = pd.read_csv('tags.dat', sep='\\t', names=['tagID', 'tagValue'])\n",
    "except FileNotFoundError as e:\n",
    "    print(f\"Ошибка: Файл не найден. Проверьте пути: {e}\")\n",
    "except Exception as e:\n",
    "    print(f\"Ошибка при загрузке данных: {e}\")\n",
    "\n",
    "# 1. Собираем теги для каждого артиста\n",
    "artist_tags = (\n",
    "    user_tags.groupby('artistID')['tagID']\n",
    "    .apply(lambda x: ' '.join(map(str, x)))\n",
    "    .reset_index(name='tags_str')\n",
    ")\n",
    "\n",
    "# 3. Векторизация тегов\n",
    "tfidf = TfidfVectorizer(max_features=5000)  # Ограничиваем размерность\n",
    "tfidf_matrix = tfidf.fit_transform(artist_tags['tags_str'])\n",
    "\n",
    "# 4. Расчет схожести\n",
    "cosine_sim = cosine_similarity(tfidf_matrix, tfidf_matrix)\n",
    "\n",
    "# 5. Функция рекомендаций\n",
    "def get_artist_recommendations(artist_id, k=5):\n",
    "    try:\n",
    "        idx = artist_tags[artist_tags['artistID'] == artist_id].index[0]\n",
    "        sim_scores = list(enumerate(cosine_sim[idx]))\n",
    "        sim_scores = sorted(sim_scores, key=lambda x: x[1], reverse=True)[1:k+1]\n",
    "        return artist_tags.iloc[[i[0] for i in sim_scores]]['artistID']\n",
    "    except IndexError:\n",
    "        return f\"Артист с ID {artist_id} не найден\"\n",
    "    except Exception as e:\n",
    "        return f\"Ошибка: {e}\"\n",
    "\n",
    "# Пример использования\n",
    "print(get_artist_recommendations(52))"
   ]
  },
  {
   "cell_type": "markdown",
   "metadata": {
    "id": "21vktNwaSOu-"
   },
   "source": [
    "_______________________________\n",
    "Функция get_artist_recommendations() вернула список рекомендуемых артистов по схожести тегов.\n",
    "\n",
    "Цифры слева — это индексы строк в DataFrame artist_tags\n",
    "\n",
    "Цифры справа — это ID рекомендованных артистов (artistID)\n",
    "____________________________________"
   ]
  },
  {
   "cell_type": "markdown",
   "metadata": {
    "id": "xT8qLvgdQ1tI"
   },
   "source": [
    "### **Для MovieLens (по жанрам)**"
   ]
  },
  {
   "cell_type": "code",
   "execution_count": 19,
   "metadata": {
    "colab": {
     "base_uri": "https://localhost:8080/"
    },
    "id": "W75zAeVWT8T1",
    "outputId": "d6b978c9-eeb5-4245-dd15-30827801fc7b"
   },
   "outputs": [
    {
     "name": "stdout",
     "output_type": "stream",
     "text": [
      "1. Загрузка и подготовка данных...\n",
      "Осталось пользователей: 158311, фильмов: 3000\n",
      "Пример доступных пользователей: [57548, 72315, 107650, 20055, 80974]\n",
      "\n",
      "2. Создание матрицы взаимодействий...\n",
      "\n",
      "3. Обучение модели...\n",
      "\n",
      "4. Тестирование для пользователя 1...\n",
      "\n",
      "Рекомендации:\n",
      "                                                  title\n",
      "303    Three Colors: Blue (Trois couleurs: Bleu) (1993)\n",
      "699                                     Dead Man (1995)\n",
      "1148  Double Life of Veronique, The (Double Vie de V...\n",
      "1200                                     Stalker (1979)\n",
      "1422                                Lost Highway (1997)\n"
     ]
    }
   ],
   "source": [
    "import gc\n",
    "\n",
    "# 1. Загрузка данных с оптимизацией\n",
    "def load_data(min_ratings=30, top_movies_count=2000):\n",
    "    ratings = pd.read_csv('ratings.csv', usecols=['userId', 'movieId', 'rating'])\n",
    "    movies = pd.read_csv('movies.csv', usecols=['movieId', 'title'])\n",
    "\n",
    "    # Фильтрация\n",
    "    movie_counts = ratings['movieId'].value_counts()\n",
    "    top_movies = movie_counts.head(top_movies_count).index\n",
    "    ratings = ratings[ratings['movieId'].isin(top_movies)]\n",
    "\n",
    "    user_counts = ratings['userId'].value_counts()\n",
    "    active_users = user_counts[user_counts >= min_ratings].index\n",
    "    ratings = ratings[ratings['userId'].isin(active_users)]\n",
    "\n",
    "    print(f\"Осталось пользователей: {len(active_users)}, фильмов: {len(top_movies)}\")\n",
    "    print(\"Пример доступных пользователей:\", list(active_users[:5]))\n",
    "\n",
    "    return ratings, movies\n",
    "\n",
    "# 2. Подготовка матрицы\n",
    "def prepare_matrix(ratings):\n",
    "    user_mapper = {u:i for i,u in enumerate(sorted(ratings['userId'].unique()))}\n",
    "    movie_mapper = {m:i for i,m in enumerate(sorted(ratings['movieId'].unique()))}\n",
    "\n",
    "    row_ind = ratings['userId'].map(user_mapper)\n",
    "    col_ind = ratings['movieId'].map(movie_mapper)\n",
    "\n",
    "    return csr_matrix(\n",
    "        (ratings['rating'], (row_ind, col_ind)),\n",
    "        shape=(len(user_mapper), len(movie_mapper))\n",
    "    ), user_mapper, movie_mapper\n",
    "\n",
    "# 3. Обучение модели\n",
    "def train_model(sparse_matrix):\n",
    "    model = NearestNeighbors(\n",
    "        n_neighbors=10,\n",
    "        metric='cosine',\n",
    "        algorithm='brute',\n",
    "        n_jobs=-1\n",
    "    )\n",
    "    model.fit(sparse_matrix)\n",
    "    return model\n",
    "\n",
    "# 4. Рекомендательная функция\n",
    "def recommend_movies(user_id, model, sparse_matrix, user_mapper, movie_mapper, movies, ratings, n=5):\n",
    "    try:\n",
    "        gc.collect()\n",
    "\n",
    "        if user_id not in user_mapper:\n",
    "            available_users = list(user_mapper.keys())\n",
    "            return f\"Пользователь {user_id} не найден. Доступные ID: {available_users[:10]}...\"\n",
    "\n",
    "        user_index = user_mapper[user_id]\n",
    "        distances, indices = model.kneighbors(sparse_matrix[user_index], n_neighbors=n+1)\n",
    "\n",
    "        # Получаем ID похожих пользователей\n",
    "        similar_users = [list(user_mapper.keys())[i] for i in indices.flatten()[1:]]\n",
    "\n",
    "        # Находим топ фильмов среди похожих пользователей\n",
    "        recommended = (\n",
    "            ratings[ratings['userId'].isin(similar_users)]\n",
    "            .groupby('movieId')['rating']\n",
    "            .mean()\n",
    "            .sort_values(ascending=False)\n",
    "            .head(n)\n",
    "            .index\n",
    "        )\n",
    "        return movies[movies['movieId'].isin(recommended)][['title']]\n",
    "\n",
    "    except Exception as e:\n",
    "        return f\"Ошибка: {str(e)}\"\n",
    "\n",
    "# Основной поток\n",
    "if __name__ == \"__main__\":\n",
    "    ratings, movies = load_data(min_ratings=20, top_movies_count=3000)\n",
    "\n",
    "\n",
    "    sparse_matrix, user_mapper, movie_mapper = prepare_matrix(ratings)\n",
    "\n",
    "\n",
    "    model = train_model(sparse_matrix)\n",
    "\n",
    "    # Автоматический выбор существующего пользователя\n",
    "    test_user = list(user_mapper.keys())[0] if user_mapper else None\n",
    "\n",
    "    if test_user:\n",
    "        recommendations = recommend_movies(\n",
    "            test_user,\n",
    "            model,\n",
    "            sparse_matrix,\n",
    "            user_mapper,\n",
    "            movie_mapper,\n",
    "            movies,\n",
    "            ratings\n",
    "        )\n",
    "        print(\"\\nРекомендации:\")\n",
    "        print(recommendations)\n",
    "    else:\n",
    "        print(\"Нет пользователей для тестирования\")"
   ]
  },
  {
   "cell_type": "markdown",
   "metadata": {
    "id": "irBRpSh5VT2v"
   },
   "source": [
    "### **Гибридная рекомендательная система**\n",
    "Преимущества гибридного подхода:\n",
    "1. Компенсация слабых сторон:\n",
    " * Коллаборативная фильтрация страдает при холодном старте (новые пользователи и объекты).\n",
    " * Контентная фильтрация — не учитывает предпочтения других пользователей.\n",
    "\n",
    "*Объединение помогает обойти обе проблемы.*\n",
    "\n",
    "2. Более персонализированные рекомендации:\n",
    " * Коллаборативная часть анализирует схожих пользователей.\n",
    "* Контентная часть учитывает индивидуальные интересы (жанры, теги, описания).\n",
    "3. Устойчивость к разреженности:\n",
    "* При недостатке взаимодействий между пользователями/объектами можно опираться на содержательные признаки.\n",
    "  \n",
    "4. Гибкость при различных типах данных:\n",
    "* Можно учитывать не только оценки/прослушивания, но и метаданные (жанры, теги, актёры и т.д.)."
   ]
  },
  {
   "cell_type": "markdown",
   "metadata": {
    "id": "myD_WRYDYaVV"
   },
   "source": [
    "### **Для Last.fm**"
   ]
  },
  {
   "cell_type": "code",
   "execution_count": 20,
   "metadata": {
    "colab": {
     "base_uri": "https://localhost:8080/"
    },
    "id": "oMzWPssxYVzX",
    "outputId": "85337d78-1ea6-4683-ff76-f2a075737a4d"
   },
   "outputs": [
    {
     "name": "stdout",
     "output_type": "stream",
     "text": [
      "Загрузка данных...\n",
      "\n",
      "Создание матрицы взаимодействий...\n",
      "\n",
      "Рекомендации для пользователя 2:\n",
      "      id          name\n",
      "45    51   Duran Duran\n",
      "61    67       Madonna\n",
      "66    72  Depeche Mode\n",
      "153  159      The Cure\n",
      "505  511            U2\n"
     ]
    }
   ],
   "source": [
    "def load_lastfm_data():\n",
    "    \"\"\"Загрузка данных Last.fm\"\"\"\n",
    "    print(\"Загрузка данных...\")\n",
    "    try:\n",
    "        artists = pd.read_csv('artists.dat', sep='\\t', skiprows=1,\n",
    "                            header=None, names=['id', 'name', 'url', 'pictureURL'])\n",
    "        user_artists = pd.read_csv('user_artists.dat', sep='\\t', skiprows=1,\n",
    "                                 header=None, names=['userID', 'artistID', 'weight'])\n",
    "        return artists, user_artists\n",
    "    except Exception as e:\n",
    "        print(f\"Ошибка загрузки: {e}\")\n",
    "        return None, None\n",
    "\n",
    "def build_recommender(artists, user_artists):\n",
    "    \"\"\"Построение рекомендательной системы\"\"\"\n",
    "    if artists is None or user_artists is None:\n",
    "        return None\n",
    "\n",
    "    print(\"\\nСоздание матрицы взаимодействий...\")\n",
    "\n",
    "    # Создаем маппинги ID в индексы\n",
    "    user_ids = user_artists['userID'].unique()\n",
    "    artist_ids = user_artists['artistID'].unique()\n",
    "\n",
    "    user_to_idx = {u: i for i, u in enumerate(user_ids)}\n",
    "    artist_to_idx = {a: i for i, a in enumerate(artist_ids)}\n",
    "\n",
    "    # Правильное создание csr_matrix (все скобки закрыты)\n",
    "    row_indices = user_artists['userID'].map(user_to_idx)\n",
    "    col_indices = user_artists['artistID'].map(artist_to_idx)\n",
    "    values = user_artists['weight']\n",
    "\n",
    "    interaction_matrix = csr_matrix(\n",
    "        (values, (row_indices, col_indices)),\n",
    "        shape=(len(user_to_idx), len(artist_to_idx))\n",
    "    )\n",
    "\n",
    "    # Функция рекомендаций\n",
    "    def recommend(user_id, n=5):\n",
    "        if user_id not in user_to_idx:\n",
    "            return f\"Пользователь {user_id} не найден\"\n",
    "\n",
    "        model = NearestNeighbors(n_neighbors=10, metric='cosine', algorithm='brute')\n",
    "        model.fit(interaction_matrix)\n",
    "\n",
    "        user_idx = user_to_idx[user_id]\n",
    "        distances, indices = model.kneighbors(interaction_matrix[user_idx])\n",
    "\n",
    "        similar_users = [user_ids[i] for i in indices.flatten()]\n",
    "        top_artists = (\n",
    "            user_artists[user_artists['userID'].isin(similar_users)]\n",
    "            .groupby('artistID')['weight']\n",
    "            .sum()\n",
    "            .sort_values(ascending=False)\n",
    "            .head(n)\n",
    "            .index\n",
    "        )\n",
    "\n",
    "        return artists[artists['id'].isin(top_artists)][['id', 'name']]\n",
    "\n",
    "    return recommend\n",
    "\n",
    "# Запуск\n",
    "if __name__ == \"__main__\":\n",
    "    artists, user_artists = load_lastfm_data()\n",
    "    if artists is not None and user_artists is not None:\n",
    "        recommender = build_recommender(artists, user_artists)\n",
    "        if recommender:\n",
    "            test_user = user_artists['userID'].iloc[0]\n",
    "            print(f\"\\nРекомендации для пользователя {test_user}:\")\n",
    "            print(recommender(test_user))"
   ]
  },
  {
   "cell_type": "markdown",
   "metadata": {
    "id": "1yv2oFLZYhj6"
   },
   "source": [
    "### **Для MovieLens**"
   ]
  },
  {
   "cell_type": "code",
   "execution_count": 21,
   "metadata": {
    "colab": {
     "base_uri": "https://localhost:8080/"
    },
    "id": "F8awcVrWY6p-",
    "outputId": "4b46f4e5-bfcc-4c00-e0a2-33b4dd54ac5e"
   },
   "outputs": [
    {
     "name": "stdout",
     "output_type": "stream",
     "text": [
      "Загрузка данных MovieLens...\n",
      "Загружено: 22939285 оценок от 156137 пользователей\n",
      "\n",
      "Создание матрицы взаимодействий...\n",
      "\n",
      "Рекомендации для пользователя 1:\n",
      "      movieId                                     title\n",
      "321       326                   To Live (Huozhe) (1994)\n",
      "6735     6858  Knife in the Water (Nóz w wodzie) (1962)\n",
      "7246     7371                           Dogville (2003)\n",
      "7446     7766      Throne of Blood (Kumonosu jô) (1957)\n",
      "7693     8254                      Arizona Dream (1993)\n"
     ]
    }
   ],
   "source": [
    "def load_movielens_data():\n",
    "    \"\"\"Загрузка данных MovieLens\"\"\"\n",
    "    print(\"Загрузка данных MovieLens...\")\n",
    "    try:\n",
    "        # Загрузка только необходимых колонок\n",
    "        ratings = pd.read_csv('ratings.csv', usecols=['userId', 'movieId', 'rating'])\n",
    "        movies = pd.read_csv('movies.csv', usecols=['movieId', 'title', 'genres'])\n",
    "\n",
    "        # Фильтрация для уменьшения размера данных\n",
    "        top_movies = ratings['movieId'].value_counts().head(5000).index\n",
    "        ratings = ratings[ratings['movieId'].isin(top_movies)]\n",
    "\n",
    "        active_users = ratings['userId'].value_counts()[ratings['userId'].value_counts() > 20].index\n",
    "        ratings = ratings[ratings['userId'].isin(active_users)]\n",
    "\n",
    "        print(f\"Загружено: {len(ratings)} оценок от {len(active_users)} пользователей\")\n",
    "        return ratings, movies\n",
    "    except Exception as e:\n",
    "        print(f\"Ошибка загрузки: {e}\")\n",
    "        return None, None\n",
    "\n",
    "def build_movielens_recommender(ratings, movies):\n",
    "    \"\"\"Построение рекомендательной системы для MovieLens\"\"\"\n",
    "    if ratings is None or movies is None:\n",
    "        return None\n",
    "\n",
    "    print(\"\\nСоздание матрицы взаимодействий...\")\n",
    "\n",
    "    # Создаем маппинги ID в индексы\n",
    "    user_ids = ratings['userId'].unique()\n",
    "    movie_ids = ratings['movieId'].unique()\n",
    "\n",
    "    user_to_idx = {u: i for i, u in enumerate(user_ids)}\n",
    "    movie_to_idx = {m: i for i, m in enumerate(movie_ids)}\n",
    "\n",
    "    # Создаем разреженную матрицу пользователь-фильм\n",
    "    row_indices = ratings['userId'].map(user_to_idx)\n",
    "    col_indices = ratings['movieId'].map(movie_to_idx)\n",
    "    values = ratings['rating']\n",
    "\n",
    "    interaction_matrix = csr_matrix(\n",
    "        (values, (row_indices, col_indices)),\n",
    "        shape=(len(user_to_idx), len(movie_to_idx))\n",
    "    )\n",
    "\n",
    "    # Функция рекомендаций\n",
    "    def recommend(user_id, n=5):\n",
    "        try:\n",
    "            if user_id not in user_to_idx:\n",
    "                available_users = list(user_to_idx.keys())[:5]\n",
    "                return f\"Пользователь {user_id} не найден. Пример доступных ID: {available_users}\"\n",
    "\n",
    "            # Находим похожих пользователей\n",
    "            model = NearestNeighbors(n_neighbors=10, metric='cosine', algorithm='brute')\n",
    "            model.fit(interaction_matrix)\n",
    "\n",
    "            user_idx = user_to_idx[user_id]\n",
    "            distances, indices = model.kneighbors(interaction_matrix[user_idx])\n",
    "\n",
    "            # Получаем фильмы, которые оценили похожие пользователи\n",
    "            similar_users = [user_ids[i] for i in indices.flatten()]\n",
    "            recommended_movies = (\n",
    "                ratings[ratings['userId'].isin(similar_users)]\n",
    "                .groupby('movieId')['rating']\n",
    "                .mean()  # Используем средний рейтинг\n",
    "                .sort_values(ascending=False)\n",
    "                .head(n)\n",
    "                .index\n",
    "            )\n",
    "\n",
    "            return movies[movies['movieId'].isin(recommended_movies)][['movieId', 'title']]\n",
    "\n",
    "        except Exception as e:\n",
    "            return f\"Ошибка при формировании рекомендаций: {str(e)}\"\n",
    "\n",
    "    return recommend\n",
    "\n",
    "# Запуск системы\n",
    "if __name__ == \"__main__\":\n",
    "    ratings, movies = load_movielens_data()\n",
    "    if ratings is not None and movies is not None:\n",
    "        recommender = build_movielens_recommender(ratings, movies)\n",
    "        if recommender:\n",
    "            # Тестируем на первом доступном пользователе\n",
    "            test_user = ratings['userId'].iloc[0]\n",
    "            print(f\"\\nРекомендации для пользователя {test_user}:\")\n",
    "            print(recommender(test_user))"
   ]
  },
  {
   "cell_type": "markdown",
   "metadata": {
    "id": "rkvKVu9OZWvb"
   },
   "source": [
    "# Метрики для оценки качества рекомендаций\n",
    "Используемые метрики качества:  \n",
    "\n",
    "**Precision@5** позволяет оценить, насколько точными являются рекомендации — то есть, какая доля из предложенных пяти элементов действительно релевантна для пользователя. Это важно, так как пользователи чаще взаимодействуют с первыми позициями списка, и низкая точность может снижать доверие к системе.\n",
    "\n",
    "**Recall@5** помогает понять, насколько полно система охватывает интересы пользователя в ограниченном списке рекомендаций. Это особенно актуально в задачах, где важно не пропустить потенциально интересные элементы.\n",
    "\n",
    "**Hit Rate@5** используется для оценки вероятности того, что среди предложенных пяти элементов хотя бы один окажется релевантным. Эта метрика даёт общее представление об успешности модели с точки зрения пользовательского опыта."
   ]
  },
  {
   "cell_type": "markdown",
   "metadata": {
    "id": "ii5JgN8LduKA"
   },
   "source": [
    "### **Для Last.fm:**"
   ]
  },
  {
   "cell_type": "code",
   "execution_count": 22,
   "metadata": {
    "colab": {
     "base_uri": "https://localhost:8080/"
    },
    "id": "ix2W_HO5f-NT",
    "outputId": "1e1d2ff2-ce98-474b-d14a-a46c6b34040d"
   },
   "outputs": [
    {
     "name": "stdout",
     "output_type": "stream",
     "text": [
      "\n",
      "=== Оценка Last.fm ===\n",
      "Загрузка данных Last.fm...\n",
      "Создание матрицы взаимодействий...\n",
      "Модель построена за 0.08 сек\n",
      "\n",
      "Метрики качества:\n",
      "Precision@5: 0.1255\n",
      "Recall@5: 0.0643\n",
      "Hit Rate@5: 0.4737\n",
      "Оценено пользователей: 1881\n",
      "Время оценки: 22.45 сек\n"
     ]
    }
   ],
   "source": [
    "# Конфигурация\n",
    "DATA_DIR = 'data'\n",
    "os.makedirs(DATA_DIR, exist_ok=True)\n",
    "\n",
    "def evaluate_recommendations(test_data, recommender, k=5, user_col='userID', item_col='artistID', n_jobs=-1):\n",
    "    \"\"\"Оптимизированная функция оценки с параллельными вычислениями\"\"\"\n",
    "    test_user_items = test_data.groupby(user_col)[item_col].apply(set)\n",
    "\n",
    "    def process_user(user_id, true_items):\n",
    "        try:\n",
    "            recommended = recommender(user_id, k)\n",
    "            if isinstance(recommended, str):\n",
    "                return (0, 0, 0)\n",
    "\n",
    "            recommended_ids = set(recommended[item_col].values if item_col in recommended.columns\n",
    "                                else set(recommended['id'].values))\n",
    "\n",
    "            hits = len(recommended_ids & true_items)\n",
    "            return (\n",
    "                1 if hits > 0 else 0,\n",
    "                hits / k,\n",
    "                hits / len(true_items) if true_items else 0\n",
    "            )\n",
    "        except:\n",
    "            return (0, 0, 0)\n",
    "\n",
    "    # Параллельное вычисление метрик\n",
    "    results = Parallel(n_jobs=n_jobs)(\n",
    "        delayed(process_user)(user_id, true_items)\n",
    "        for user_id, true_items in test_user_items.items()\n",
    "    )\n",
    "\n",
    "    hit_rates, precisions, recalls = zip(*results)\n",
    "\n",
    "    return {\n",
    "        'precision@k': np.mean(precisions),\n",
    "        'recall@k': np.mean(recalls),\n",
    "        'hit_rate@k': np.mean(hit_rates),\n",
    "        'users_evaluated': len(hit_rates)\n",
    "    }\n",
    "\n",
    "def load_lastfm_data():\n",
    "    \"\"\"Оптимизированная загрузка данных Last.fm\"\"\"\n",
    "    print(\"Загрузка данных Last.fm...\")\n",
    "    try:\n",
    "        cache_file = os.path.join(DATA_DIR, 'lastfm_data.feather')\n",
    "        if os.path.exists(cache_file):\n",
    "            df = pd.read_feather(cache_file)\n",
    "            artists = df[df['type'] == 'artist'][['id', 'name', 'url', 'pictureURL']]\n",
    "            user_artists = df[df['type'] == 'user_artist'][['userID', 'artistID', 'weight']]\n",
    "            return artists, user_artists\n",
    "\n",
    "        artists = pd.read_csv('artists.dat', sep='\\t', skiprows=1,\n",
    "                            header=None, names=['id', 'name', 'url', 'pictureURL'])\n",
    "        user_artists = pd.read_csv('user_artists.dat', sep='\\t', skiprows=1,\n",
    "                                 header=None, names=['userID', 'artistID', 'weight'])\n",
    "\n",
    "        # Кеширование в feather для ускорения последующих загрузок\n",
    "        artists['type'] = 'artist'\n",
    "        user_artists['type'] = 'user_artist'\n",
    "        pd.concat([artists, user_artists]).to_feather(cache_file)\n",
    "        return artists, user_artists\n",
    "    except Exception as e:\n",
    "        print(f\"Ошибка загрузки: {e}\")\n",
    "        return None, None\n",
    "\n",
    "def build_recommender(artists, user_artists, n_neighbors=15):\n",
    "    \"\"\"Оптимизированный рекомендатель для Last.fm\"\"\"\n",
    "    if artists is None or user_artists is None:\n",
    "        return None\n",
    "\n",
    "    print(\"Создание матрицы взаимодействий...\")\n",
    "    start_time = time()\n",
    "\n",
    "    # Нормализация весов\n",
    "    user_artists['weight'] = np.log1p(user_artists['weight'])\n",
    "\n",
    "    # Создаем маппинги\n",
    "    user_ids = user_artists['userID'].unique()\n",
    "    artist_ids = user_artists['artistID'].unique()\n",
    "\n",
    "    user_to_idx = {u: i for i, u in enumerate(user_ids)}\n",
    "    artist_to_idx = {a: i for i, a in enumerate(artist_ids)}\n",
    "\n",
    "    # Создаем разреженную матрицу\n",
    "    row = user_artists['userID'].map(user_to_idx)\n",
    "    col = user_artists['artistID'].map(artist_to_idx)\n",
    "    data = user_artists['weight']\n",
    "\n",
    "    matrix_file = os.path.join(DATA_DIR, 'lastfm_matrix.npz')\n",
    "    if os.path.exists(matrix_file):\n",
    "        interaction_matrix = load_npz(matrix_file)\n",
    "    else:\n",
    "        interaction_matrix = csr_matrix((data, (row, col)),\n",
    "                                      shape=(len(user_to_idx), len(artist_to_idx)))\n",
    "        save_npz(matrix_file, interaction_matrix)\n",
    "\n",
    "    # Предварительно вычисляем топ артистов\n",
    "    top_artists = user_artists.groupby('artistID')['weight'].sum().nlargest(1000).index\n",
    "\n",
    "    def recommend(user_id, n=5):\n",
    "        if user_id not in user_to_idx:\n",
    "            return artists[artists['id'].isin(top_artists[:n])][['id', 'name']]\n",
    "\n",
    "        # Используем кешированную модель\n",
    "        if not hasattr(recommend, 'model'):\n",
    "            recommend.model = NearestNeighbors(\n",
    "                n_neighbors=n_neighbors,\n",
    "                metric='cosine',\n",
    "                algorithm='brute'\n",
    "            )\n",
    "            recommend.model.fit(interaction_matrix)\n",
    "\n",
    "        user_idx = user_to_idx[user_id]\n",
    "        _, indices = recommend.model.kneighbors(interaction_matrix[user_idx])\n",
    "\n",
    "        similar_users = [user_ids[i] for i in indices.flatten()]\n",
    "        recommended = (\n",
    "            user_artists[user_artists['userID'].isin(similar_users)]\n",
    "            .groupby('artistID')['weight']\n",
    "            .sum()\n",
    "            .nlargest(n*2)  # Берем больше, чтобы исключить просмотренные\n",
    "        )\n",
    "\n",
    "        viewed = set(user_artists[user_artists['userID'] == user_id]['artistID'])\n",
    "        recommended_ids = [a for a in recommended.index if a not in viewed][:n]\n",
    "\n",
    "        if not recommended_ids:\n",
    "            return artists[artists['id'].isin(top_artists[:n])][['id', 'name']]\n",
    "\n",
    "        return artists[artists['id'].isin(recommended_ids)][['id', 'name']]\n",
    "\n",
    "    print(f\"Модель построена за {time()-start_time:.2f} сек\")\n",
    "    return recommend\n",
    "\n",
    "def evaluate_lastfm():\n",
    "    print(\"\\n=== Оценка Last.fm ===\")\n",
    "    artists, user_artists = load_lastfm_data()\n",
    "\n",
    "    if artists is None or user_artists is None:\n",
    "        return\n",
    "\n",
    "    # Уменьшаем данные для быстрой оценки\n",
    "    if len(user_artists) > 1000000:\n",
    "        user_sample = np.random.choice(user_artists['userID'].unique(), 50000, replace=False)\n",
    "        user_artists = user_artists[user_artists['userID'].isin(user_sample)]\n",
    "\n",
    "    train, test = train_test_split(user_artists, test_size=0.2, random_state=42)\n",
    "    recommender = build_recommender(artists, train)\n",
    "\n",
    "    if recommender:\n",
    "        start = time()\n",
    "        metrics = evaluate_recommendations(test, recommender, user_col='userID', item_col='artistID')\n",
    "\n",
    "        print(\"\\nМетрики качества:\")\n",
    "        print(f\"Precision@5: {metrics['precision@k']:.4f}\")\n",
    "        print(f\"Recall@5: {metrics['recall@k']:.4f}\")\n",
    "        print(f\"Hit Rate@5: {metrics['hit_rate@k']:.4f}\")\n",
    "        print(f\"Оценено пользователей: {metrics['users_evaluated']}\")\n",
    "        print(f\"Время оценки: {time()-start:.2f} сек\")\n",
    "\n",
    "if __name__ == \"__main__\":\n",
    "    evaluate_lastfm()"
   ]
  },
  {
   "cell_type": "markdown",
   "metadata": {
    "id": "yQtXhx_eiFMF"
   },
   "source": [
    "**Интерпретация результатов**\n",
    "* Precision@5: 0.1255 (12.55%)\n",
    "\n",
    "Значение: Каждая 8-я рекомендация (в среднем 0.63 из 5) была релевантной.\n",
    "\n",
    "Оценка: Умеренное качество. Типичный диапазон для KNN: 10-20%.\n",
    "\n",
    "* Recall@5: 0.0643 (6.43%)\n",
    "\n",
    "Значение: Система находит только 6.4% всех возможных релевантных артистов.\n",
    "\n",
    "Оценка: Низковато, но ожидаемо для коллаборативной фильтрации.\n",
    "\n",
    "* Hit Rate@5: 0.4737 (47.37%)\n",
    "\n",
    "Значение: Почти у половины пользователей хотя бы 1 рекомендация была релевантной.\n",
    "\n",
    "Оценка: Хороший результат (обычно 30-50% для KNN).\n",
    "\n",
    "* Скорость:\n",
    "\n",
    "Построение модели за 0.08 сек – отлично.\n",
    "\n",
    "Оценка за 22.45 сек для 1881 пользователей – приемлемо.\n",
    "\n",
    "**В итоге:**  \n",
    "Модель демонстрирует приемлемое качество рекомендаций при высокой вычислительной эффективности, что делает её подходящей для использования в системах с небольшим или средним числом пользователей, где приоритетом является персонализированная, но компактная выдача."
   ]
  },
  {
   "cell_type": "markdown",
   "metadata": {
    "id": "eMpK1PgelZ-a"
   },
   "source": [
    "### **Для MovieLens**"
   ]
  },
  {
   "cell_type": "code",
   "execution_count": 23,
   "metadata": {
    "colab": {
     "base_uri": "https://localhost:8080/"
    },
    "id": "1KcLuGS0gv3D",
    "outputId": "fe7d2cf1-88ba-4843-b2b1-b7b3dbd8530c"
   },
   "outputs": [
    {
     "name": "stdout",
     "output_type": "stream",
     "text": [
      "\n",
      "=== Оценка MovieLens (2000 пользователей) ===\n",
      "Загрузка данных MovieLens (ограничено 2000 пользователей)...\n",
      "Загружено: 297397 оценок от 2000 пользователей\n",
      "Используется 5000 фильмов\n",
      "Создание матрицы взаимодействий...\n",
      "Модель построена за 0.03 сек\n",
      "\n",
      "Метрики качества:\n",
      "Precision@5: 0.0179\n",
      "Recall@5: 0.0043\n",
      "Hit Rate@5: 0.0802\n",
      "Оценено пользователей: 1996\n",
      "Время оценки: 49.90 сек\n"
     ]
    }
   ],
   "source": [
    "# Конфигурация\n",
    "DATA_DIR = 'data'\n",
    "os.makedirs(DATA_DIR, exist_ok=True)\n",
    "\n",
    "def load_movielens_data_sample(n_users=2000):\n",
    "\n",
    "    print(\"Загрузка данных MovieLens (ограничено 2000 пользователей)...\")\n",
    "    try:\n",
    "        # Читаем только нужные колонки\n",
    "        ratings = pd.read_csv('ratings.csv', usecols=['userId', 'movieId', 'rating'])\n",
    "        movies = pd.read_csv('movies.csv', usecols=['movieId', 'title', 'genres'])\n",
    "\n",
    "        # Выбираем 2000 случайных активных пользователей (с >20 оценками)\n",
    "        active_users = ratings['userId'].value_counts()[ratings['userId'].value_counts() > 20].index\n",
    "        selected_users = np.random.choice(active_users, min(n_users, len(active_users)), replace=False)\n",
    "        ratings = ratings[ratings['userId'].isin(selected_users)]\n",
    "\n",
    "        # Берем топ-5000 популярных фильмов среди этих пользователей\n",
    "        top_movies = ratings['movieId'].value_counts().head(5000).index\n",
    "        ratings = ratings[ratings['movieId'].isin(top_movies)]\n",
    "\n",
    "        print(f\"Загружено: {len(ratings)} оценок от {len(selected_users)} пользователей\")\n",
    "        print(f\"Используется {len(top_movies)} фильмов\")\n",
    "        return ratings, movies\n",
    "    except Exception as e:\n",
    "        print(f\"Ошибка загрузки: {e}\")\n",
    "        return None, None\n",
    "\n",
    "def build_movielens_recommender(ratings, movies, n_neighbors=15):\n",
    "    \"\"\"Оптимизированный рекомендатель для MovieLens\"\"\"\n",
    "    if ratings is None or movies is None:\n",
    "        return None\n",
    "\n",
    "    print(\"Создание матрицы взаимодействий...\")\n",
    "    start_time = time()\n",
    "\n",
    "    # Создаем маппинги\n",
    "    user_ids = ratings['userId'].unique()\n",
    "    movie_ids = ratings['movieId'].unique()\n",
    "\n",
    "    user_to_idx = {u: i for i, u in enumerate(user_ids)}\n",
    "    movie_to_idx = {m: i for i, m in enumerate(movie_ids)}\n",
    "\n",
    "    # Создаем разреженную матрицу\n",
    "    row = ratings['userId'].map(user_to_idx)\n",
    "    col = ratings['movieId'].map(movie_to_idx)\n",
    "    data = ratings['rating']\n",
    "\n",
    "    matrix_file = os.path.join(DATA_DIR, 'movielens_matrix.npz')\n",
    "    if os.path.exists(matrix_file):\n",
    "        interaction_matrix = load_npz(matrix_file)\n",
    "    else:\n",
    "        interaction_matrix = csr_matrix((data, (row, col)),\n",
    "                                      shape=(len(user_to_idx), len(movie_to_idx)))\n",
    "        save_npz(matrix_file, interaction_matrix)\n",
    "\n",
    "    # Предварительно вычисляем топ фильмов\n",
    "    top_movies = ratings.groupby('movieId')['rating'].mean().nlargest(500).index\n",
    "\n",
    "    def recommend(user_id, n=5):\n",
    "        if user_id not in user_to_idx:\n",
    "            return movies[movies['movieId'].isin(top_movies[:n])][['movieId', 'title']]\n",
    "\n",
    "        # Используем кешированную модель\n",
    "        if not hasattr(recommend, 'model'):\n",
    "            recommend.model = NearestNeighbors(\n",
    "                n_neighbors=n_neighbors,\n",
    "                metric='cosine',\n",
    "                algorithm='brute'\n",
    "            )\n",
    "            recommend.model.fit(interaction_matrix)\n",
    "\n",
    "        user_idx = user_to_idx[user_id]\n",
    "        _, indices = recommend.model.kneighbors(interaction_matrix[user_idx])\n",
    "\n",
    "        similar_users = [user_ids[i] for i in indices.flatten()]\n",
    "        recommended = (\n",
    "            ratings[ratings['userId'].isin(similar_users)]\n",
    "            .groupby('movieId')['rating']\n",
    "            .mean()  # Используем средний рейтинг\n",
    "            .nlargest(n*2)  # Берем больше, чтобы исключить просмотренные\n",
    "        )\n",
    "\n",
    "        viewed = set(ratings[ratings['userId'] == user_id]['movieId'])\n",
    "        recommended_ids = [m for m in recommended.index if m not in viewed][:n]\n",
    "\n",
    "        if not recommended_ids:\n",
    "            return movies[movies['movieId'].isin(top_movies[:n])][['movieId', 'title']]\n",
    "\n",
    "        return movies[movies['movieId'].isin(recommended_ids)][['movieId', 'title']]\n",
    "\n",
    "    print(f\"Модель построена за {time()-start_time:.2f} сек\")\n",
    "    return recommend\n",
    "\n",
    "def evaluate_movielens():\n",
    "    print(\"\\n=== Оценка MovieLens (2000 пользователей) ===\")\n",
    "    ratings, movies = load_movielens_data_sample()\n",
    "\n",
    "    if ratings is None or movies is None:\n",
    "        return\n",
    "\n",
    "    train, test = train_test_split(ratings, test_size=0.2, random_state=42)\n",
    "    recommender = build_movielens_recommender(train, movies)\n",
    "\n",
    "    if recommender:\n",
    "        start = time()\n",
    "        metrics = evaluate_recommendations(test, recommender,\n",
    "                                         user_col='userId', item_col='movieId')\n",
    "\n",
    "        print(\"\\nМетрики качества:\")\n",
    "        print(f\"Precision@5: {metrics['precision@k']:.4f}\")\n",
    "        print(f\"Recall@5: {metrics['recall@k']:.4f}\")\n",
    "        print(f\"Hit Rate@5: {metrics['hit_rate@k']:.4f}\")\n",
    "        print(f\"Оценено пользователей: {metrics['users_evaluated']}\")\n",
    "        print(f\"Время оценки: {time()-start:.2f} сек\")\n",
    "\n",
    "if __name__ == \"__main__\":\n",
    "    evaluate_movielens()"
   ]
  },
  {
   "cell_type": "markdown",
   "metadata": {
    "id": "fkfn7gs6ivRM"
   },
   "source": [
    "**Интерпретация результатов**"
   ]
  },
  {
   "cell_type": "markdown",
   "metadata": {
    "id": "7Qsc9uMDiyJe"
   },
   "source": [
    "Интерпретация результатов для MovieLens (2000 пользователей):\n",
    "\n",
    "* Precision@5: 0.0179 (1.79%)\n",
    "\n",
    "Значение: В среднем только 0.09 из 5 рекомендованных фильмов (менее 1 из 10) были релевантными пользователю.\n",
    "\n",
    "Оценка: Крайне низкое качество.\n",
    "\n",
    "* Recall@5: 0.0043 (0.43%)\n",
    "\n",
    "Значение: Система находит менее 0.5% релевантных фильмов из всех возможных.\n",
    "\n",
    "Оценка: Низкий результат.\n",
    "\n",
    "* Hit Rate@5: 0.0802 (8.02%)\n",
    "\n",
    "Значение: Только у 8% пользователей была хотя бы 1 удачная рекомендация.\n",
    "\n",
    "Оценка: Низкий результат\n",
    "\n",
    "* Скорость:\n",
    "\n",
    "Построение модели за 0.03 сек — отлично.\n",
    "\n",
    "Оценка за 49.9 сек — удовлетворительно.\n",
    "\n",
    "**Причины**: \n",
    "* Во-первых среда google colab плохо подходит для работы с большими данными. Поэтому приходилось ограничиваться с данными.\n",
    "Во-вторых google colab не смог установить и корректно работать с библиотекой surprise, испольуя которую можно было бы использовать метод SVD (который дал бы значительно лучшие результаты). А использованный метод в нашем случае - KNN плохо работает с высокоразмерными разреженными матрицами.\n",
    "* Во-вторых, датасет MovieLens отличается по своей структуре от датасета Last.fm. В частности, в MovieLens количество пользователей значительно превышает количество объектов (фильмов), что отрицательно сказывается на стабильности результатов при использовании user-based подхода. Вероятно, в подобных условиях item-based модель могла бы продемонстрировать более устойчивое и качественное поведение, поскольку сопоставление между меньшим числом объектов обычно дает более надёжные оценки схожести."
   ]
  },
  {
   "cell_type": "markdown",
   "metadata": {
    "id": "5bt-4zgGlCSt"
   },
   "source": [
    "## Механизм решения проблемы \"холодного старта\" для новых пользователей"
   ]
  },
  {
   "cell_type": "markdown",
   "metadata": {
    "id": "riQ2SV9WluZU"
   },
   "source": [
    "### **Для Last.fm**"
   ]
  },
  {
   "cell_type": "code",
   "execution_count": 24,
   "metadata": {
    "colab": {
     "base_uri": "https://localhost:8080/"
    },
    "id": "eAS93jexlqk1",
    "outputId": "de3d8d9d-0a1f-474b-e703-a8787962dab3"
   },
   "outputs": [
    {
     "name": "stdout",
     "output_type": "stream",
     "text": [
      "Загрузка данных Last.fm...\n",
      "Подготовка моделей...\n",
      "Модели подготовлены за 0.31 сек\n",
      "\n",
      "Рекомендации для нового пользователя:\n",
      "      id            name                                      url  \\\n",
      "83    89       Lady Gaga       http://www.last.fm/music/Lady+Gaga   \n",
      "221  227     The Beatles     http://www.last.fm/music/The+Beatles   \n",
      "282  288         Rihanna         http://www.last.fm/music/Rihanna   \n",
      "283  289  Britney Spears  http://www.last.fm/music/Britney+Spears   \n",
      "294  300      Katy Perry      http://www.last.fm/music/Katy+Perry   \n",
      "\n",
      "                                            pictureURL  \n",
      "83   http://userserve-ak.last.fm/serve/252/47390093...  \n",
      "221  http://userserve-ak.last.fm/serve/252/2588646.jpg  \n",
      "282  http://userserve-ak.last.fm/serve/252/53023109...  \n",
      "283  http://userserve-ak.last.fm/serve/252/60126439...  \n",
      "294  http://userserve-ak.last.fm/serve/252/42128121...  \n",
      "\n",
      "Рекомендации для пользователя 2:\n",
      "        id           name                                     url  \\\n",
      "153    159       The Cure       http://www.last.fm/music/The+Cure   \n",
      "181    187           a-ha           http://www.last.fm/music/a-ha   \n",
      "992   1001  Pet Shop Boys  http://www.last.fm/music/Pet+Shop+Boys   \n",
      "1005  1014        Erasure        http://www.last.fm/music/Erasure   \n",
      "1883  1892     Eurythmics     http://www.last.fm/music/Eurythmics   \n",
      "\n",
      "                                             pictureURL  \n",
      "153   http://userserve-ak.last.fm/serve/252/9151219.jpg  \n",
      "181   http://userserve-ak.last.fm/serve/252/44717589...  \n",
      "992   http://userserve-ak.last.fm/serve/252/28023467...  \n",
      "1005  http://userserve-ak.last.fm/serve/252/3313311.jpg  \n",
      "1883  http://userserve-ak.last.fm/serve/252/45359295...  \n"
     ]
    }
   ],
   "source": [
    "from collections import defaultdict\n",
    "\n",
    "# Конфигурация\n",
    "DATA_DIR = 'lastfm_data'\n",
    "os.makedirs(DATA_DIR, exist_ok=True)\n",
    "\n",
    "class LastFMRecommender:\n",
    "    def __init__(self):\n",
    "        self.artists, self.user_artists, self.tags, self.user_tags = self.load_data()\n",
    "        self.prepare_models()\n",
    "\n",
    "    def load_data(self):\n",
    "        \"\"\"Загрузка и предобработка данных\"\"\"\n",
    "        print(\"Загрузка данных Last.fm...\")\n",
    "\n",
    "        try:\n",
    "            # Загрузка основных данных\n",
    "            artists = pd.read_csv('artists.dat', sep='\\t', skiprows=1,\n",
    "                                names=['id', 'name', 'url', 'pictureURL'])\n",
    "            user_artists = pd.read_csv('user_artists.dat', sep='\\t', skiprows=1,\n",
    "                                     names=['userID', 'artistID', 'weight'])\n",
    "            tags = pd.read_csv('tags.dat', sep='\\t', skiprows=1,\n",
    "                             names=['tagID', 'tagValue'])\n",
    "            user_tags = pd.read_csv('user_taggedartists.dat', sep='\\t', skiprows=1,\n",
    "                                  names=['userID', 'artistID', 'tagID', 'day', 'month', 'year'])\n",
    "\n",
    "            # Предобработка весов\n",
    "            user_artists['weight'] = np.log1p(user_artists['weight'])\n",
    "\n",
    "            return artists, user_artists, tags, user_tags\n",
    "        except Exception as e:\n",
    "            print(f\"Ошибка загрузки: {e}\")\n",
    "            return None, None, None, None\n",
    "\n",
    "    def prepare_models(self):\n",
    "        \"\"\"Подготовка моделей и кеширование\"\"\"\n",
    "        if self.artists is None:\n",
    "            return\n",
    "\n",
    "        print(\"Подготовка моделей...\")\n",
    "        start_time = time()\n",
    "\n",
    "        # 1. Топ артистов для холодного старта\n",
    "        self.top_artists = self.user_artists.groupby('artistID')['weight'].sum().nlargest(100).index\n",
    "\n",
    "        # 2. Матрица взаимодействий\n",
    "        user_ids = self.user_artists['userID'].unique()\n",
    "        artist_ids = self.user_artists['artistID'].unique()\n",
    "\n",
    "        self.user_to_idx = {u: i for i, u in enumerate(user_ids)}\n",
    "        self.artist_to_idx = {a: i for i, a in enumerate(artist_ids)}\n",
    "\n",
    "        row = self.user_artists['userID'].map(self.user_to_idx)\n",
    "        col = self.user_artists['artistID'].map(self.artist_to_idx)\n",
    "        data = self.user_artists['weight']\n",
    "\n",
    "        self.interaction_matrix = csr_matrix((data, (row, col)),\n",
    "                                          shape=(len(user_ids), len(artist_ids)))\n",
    "\n",
    "        # 3. Подготовка тегов\n",
    "        self.artist_tags = self.user_tags.groupby('artistID')['tagID'].apply(set).to_dict()\n",
    "        self.tag_artists = self.user_tags.groupby('tagID')['artistID'].apply(set).to_dict()\n",
    "\n",
    "        print(f\"Модели подготовлены за {time()-start_time:.2f} сек\")\n",
    "\n",
    "    def recommend_for_new_user(self, input_tags=None, n=5):\n",
    "        \"\"\"Рекомендации для нового пользователя\"\"\"\n",
    "        if input_tags:\n",
    "            # Поиск по тегам\n",
    "            scored_artists = defaultdict(int)\n",
    "            for tag in input_tags:\n",
    "                if tag in self.tag_artists:\n",
    "                    for artist in self.tag_artists[tag]:\n",
    "                        scored_artists[artist] += 1\n",
    "\n",
    "            if scored_artists:\n",
    "                top_ids = sorted(scored_artists.items(), key=lambda x: x[1], reverse=True)[:n]\n",
    "                return self.artists[self.artists['id'].isin([x[0] for x in top_ids])]\n",
    "\n",
    "        # Возвращаем топ по умолчанию\n",
    "        return self.artists[self.artists['id'].isin(self.top_artists[:n])]\n",
    "\n",
    "    def recommend_for_existing_user(self, user_id, n=5):\n",
    "        \"\"\"Рекомендации для известного пользователя\"\"\"\n",
    "        if user_id not in self.user_to_idx:\n",
    "            return self.recommend_for_new_user(n=n)\n",
    "\n",
    "        # KNN модель\n",
    "        if not hasattr(self, 'knn_model'):\n",
    "            self.knn_model = NearestNeighbors(n_neighbors=15, metric='cosine', algorithm='brute')\n",
    "            self.knn_model.fit(self.interaction_matrix)\n",
    "\n",
    "        user_idx = self.user_to_idx[user_id]\n",
    "        _, indices = self.knn_model.kneighbors(self.interaction_matrix[user_idx])\n",
    "\n",
    "        # Получаем похожих пользователей\n",
    "        similar_users = [list(self.user_to_idx.keys())[i] for i in indices.flatten()]\n",
    "\n",
    "        # Топ артистов среди похожих пользователей\n",
    "        recommended = (\n",
    "            self.user_artists[self.user_artists['userID'].isin(similar_users)]\n",
    "            .groupby('artistID')['weight']\n",
    "            .sum()\n",
    "            .nlargest(n*2)  # Берем больше, чтобы исключить просмотренные\n",
    "        )\n",
    "\n",
    "        # Исключаем уже прослушанное\n",
    "        viewed = set(self.user_artists[self.user_artists['userID'] == user_id]['artistID'])\n",
    "        recommended_ids = [a for a in recommended.index if a not in viewed][:n]\n",
    "\n",
    "        if not recommended_ids:\n",
    "            return self.recommend_for_new_user(n=n)\n",
    "\n",
    "        return self.artists[self.artists['id'].isin(recommended_ids)]\n",
    "\n",
    "    def recommend(self, user_id=None, input_tags=None, n=5):\n",
    "        \"\"\"Универсальный метод рекомендаций\"\"\"\n",
    "        if user_id is None or user_id not in self.user_to_idx:\n",
    "            return self.recommend_for_new_user(input_tags, n)\n",
    "        return self.recommend_for_existing_user(user_id, n)\n",
    "\n",
    "# Пример использования\n",
    "if __name__ == \"__main__\":\n",
    "    recommender = LastFMRecommender()\n",
    "\n",
    "    # Для нового пользователя (холодный старт)\n",
    "    print(\"\\nРекомендации для нового пользователя:\")\n",
    "    print(recommender.recommend(input_tags=['metal', 'rock']).head())\n",
    "\n",
    "    # Для существующего пользователя\n",
    "    test_user = recommender.user_artists['userID'].iloc[0]\n",
    "    print(f\"\\nРекомендации для пользователя {test_user}:\")\n",
    "    print(recommender.recommend(user_id=test_user).head())"
   ]
  },
  {
   "cell_type": "markdown",
   "metadata": {
    "id": "Z5TKgSoimxqL"
   },
   "source": [
    "______________________________________________\n",
    "Описание работы системы для Last.fm (музыкальные артисты):\n",
    "\n",
    "**Для новых пользователей (холодный старт):**\n",
    "* По тегам  \n",
    "Рекомендации на основе выбранных тегов (например, rock, metal). Система ищет артистов с совпадающими тегами.\n",
    "\n",
    "* Топ популярных  \n",
    "Если теги не указаны, рекомендует самых прослушиваемых артистов.\n",
    "\n",
    "**Для известных пользователей:**\n",
    "* KNN (User-based)  \n",
    "Находит пользователей с похожими вкусами и рекомендует артистов, которых те слушали, но текущий пользователь еще нет."
   ]
  },
  {
   "cell_type": "markdown",
   "metadata": {
    "id": "srxuUYkulyn6"
   },
   "source": [
    "### **Для MovieLens**"
   ]
  },
  {
   "cell_type": "code",
   "execution_count": 41,
   "metadata": {
    "colab": {
     "base_uri": "https://localhost:8080/"
    },
    "id": "DL7d5ZrKl2VI",
    "outputId": "e290b20e-53c7-475f-8d93-8d24be00993b"
   },
   "outputs": [
    {
     "name": "stdout",
     "output_type": "stream",
     "text": [
      "Загрузка данных MovieLens (первые 2000 пользователей)...\n",
      "Подготовка моделей...\n",
      "Модели подготовлены за 6.76 сек\n",
      "\n",
      "Рекомендации по жанрам ['Comedy', 'Drama']:\n",
      "       movieId                               title  \\\n",
      "0            1                    Toy Story (1995)   \n",
      "2            3             Grumpier Old Men (1995)   \n",
      "3            4            Waiting to Exhale (1995)   \n",
      "4            5  Father of the Bride Part II (1995)   \n",
      "28162   131072             Jesus liebt mich (2012)   \n",
      "\n",
      "                                            genres  \\\n",
      "0      Adventure|Animation|Children|Comedy|Fantasy   \n",
      "2                                   Comedy|Romance   \n",
      "3                             Comedy|Drama|Romance   \n",
      "4                                           Comedy   \n",
      "28162                                       Comedy   \n",
      "\n",
      "                                             genres_list  \n",
      "0      [Adventure, Animation, Children, Comedy, Fantasy]  \n",
      "2                                      [Comedy, Romance]  \n",
      "3                               [Comedy, Drama, Romance]  \n",
      "4                                               [Comedy]  \n",
      "28162                                           [Comedy]  \n",
      "\n",
      "Рекомендации по тегам ['funny', 'romantic']:\n",
      "   movieId                               title  \\\n",
      "0        1                    Toy Story (1995)   \n",
      "1        2                      Jumanji (1995)   \n",
      "2        3             Grumpier Old Men (1995)   \n",
      "3        4            Waiting to Exhale (1995)   \n",
      "4        5  Father of the Bride Part II (1995)   \n",
      "\n",
      "                                        genres  \\\n",
      "0  Adventure|Animation|Children|Comedy|Fantasy   \n",
      "1                   Adventure|Children|Fantasy   \n",
      "2                               Comedy|Romance   \n",
      "3                         Comedy|Drama|Romance   \n",
      "4                                       Comedy   \n",
      "\n",
      "                                         genres_list  \n",
      "0  [Adventure, Animation, Children, Comedy, Fantasy]  \n",
      "1                     [Adventure, Children, Fantasy]  \n",
      "2                                  [Comedy, Romance]  \n",
      "3                           [Comedy, Drama, Romance]  \n",
      "4                                           [Comedy]  \n",
      "\n",
      "Топ популярных фильмов:\n",
      "      movieId                                        title  \\\n",
      "49         50                   Usual Suspects, The (1995)   \n",
      "314       318             Shawshank Redemption, The (1994)   \n",
      "840       858                        Godfather, The (1972)   \n",
      "1190     1221               Godfather: Part II, The (1974)   \n",
      "1930     2019  Seven Samurai (Shichinin no samurai) (1954)   \n",
      "\n",
      "                      genres                 genres_list  \n",
      "49    Crime|Mystery|Thriller  [Crime, Mystery, Thriller]  \n",
      "314              Crime|Drama              [Crime, Drama]  \n",
      "840              Crime|Drama              [Crime, Drama]  \n",
      "1190             Crime|Drama              [Crime, Drama]  \n",
      "1930  Action|Adventure|Drama  [Action, Adventure, Drama]  \n",
      "\n",
      "Персонализированные рекомендации для пользователя 2:\n",
      "       movieId               title                          genres  \\\n",
      "883        904  Rear Window (1954)                Mystery|Thriller   \n",
      "12876    64614  Gran Torino (2008)                     Crime|Drama   \n",
      "18337    96079      Skyfall (2012)  Action|Adventure|Thriller|IMAX   \n",
      "\n",
      "                               genres_list  \n",
      "883                    [Mystery, Thriller]  \n",
      "12876                       [Crime, Drama]  \n",
      "18337  [Action, Adventure, Thriller, IMAX]  \n"
     ]
    }
   ],
   "source": [
    "class MovieLensRecommender:\n",
    "    def __init__(self, n_users=2000, n_movies=1000):\n",
    "        self.n_users = n_users\n",
    "        self.n_movies = n_movies\n",
    "        self.movies, self.ratings, self.genome_scores, self.genome_tags = self.load_data()\n",
    "        self.prepare_models()\n",
    "\n",
    "    def load_data(self):\n",
    "        \"\"\"Загрузка и предобработка данных\"\"\"\n",
    "        print(f\"Загрузка данных MovieLens (первые {self.n_users} пользователей)...\")\n",
    "\n",
    "        try:\n",
    "            # Загрузка основных данных с ограничением\n",
    "            ratings = pd.read_csv('ratings.csv',\n",
    "                                usecols=['userId', 'movieId', 'rating'],\n",
    "                                nrows=1000000)  # Ограничение для скорости\n",
    "\n",
    "            # Фильтрация пользователей и фильмов\n",
    "            active_users = ratings['userId'].value_counts().nlargest(self.n_users).index\n",
    "            ratings = ratings[ratings['userId'].isin(active_users)]\n",
    "\n",
    "            top_movies = ratings['movieId'].value_counts().nlargest(self.n_movies).index\n",
    "            ratings = ratings[ratings['movieId'].isin(top_movies)]\n",
    "\n",
    "            movies = pd.read_csv('movies.csv', usecols=['movieId', 'title', 'genres'])\n",
    "\n",
    "            # Загрузка genome данных (для контентных рекомендаций)\n",
    "            genome_scores = pd.read_csv('genome-scores.csv')\n",
    "            genome_tags = pd.read_csv('genome-tags.csv')\n",
    "\n",
    "            return movies, ratings, genome_scores, genome_tags\n",
    "        except Exception as e:\n",
    "            print(f\"Ошибка загрузки: {e}\")\n",
    "            return None, None, None, None\n",
    "\n",
    "    def prepare_models(self):\n",
    "        \"\"\"Подготовка моделей рекомендаций\"\"\"\n",
    "        if self.ratings is None:\n",
    "            return\n",
    "\n",
    "        print(\"Подготовка моделей...\")\n",
    "        start_time = time()\n",
    "\n",
    "        # 1. Топ фильмов для холодного старта\n",
    "        self.top_movies = self.ratings.groupby('movieId')['rating'].mean().nlargest(100).index\n",
    "\n",
    "        # 2. Матрица взаимодействий\n",
    "        user_ids = self.ratings['userId'].unique()\n",
    "        movie_ids = self.ratings['movieId'].unique()\n",
    "\n",
    "        self.user_to_idx = {u: i for i, u in enumerate(user_ids)}\n",
    "        self.movie_to_idx = {m: i for i, m in enumerate(movie_ids)}\n",
    "\n",
    "        row = self.ratings['userId'].map(self.user_to_idx)\n",
    "        col = self.ratings['movieId'].map(self.movie_to_idx)\n",
    "        data = self.ratings['rating']\n",
    "\n",
    "        self.interaction_matrix = csr_matrix((data, (row, col)),\n",
    "                                          shape=(len(user_ids), len(movie_ids)))\n",
    "\n",
    "        # 3. Подготовка жанров и тегов\n",
    "        self.movies['genres_list'] = self.movies['genres'].str.split('|')\n",
    "        self.genre_movies = self.movies.explode('genres_list').groupby('genres_list')['movieId'].apply(set)\n",
    "\n",
    "        # 4. Genome теги\n",
    "        self.movie_tags = self.genome_scores.merge(self.genome_tags, on='tagId')\n",
    "        self.tag_movies = self.movie_tags.groupby('tag')['movieId'].apply(set)\n",
    "\n",
    "        print(f\"Модели подготовлены за {time()-start_time:.2f} сек\")\n",
    "\n",
    "    def recommend_by_genres(self, genres, n=5):\n",
    "        \"\"\"Рекомендации по жанрам\"\"\"\n",
    "        valid_genres = set(self.genre_movies.index) & set(genres)\n",
    "        if not valid_genres:\n",
    "            return self.recommend_popular(n)\n",
    "\n",
    "        recommended = set()\n",
    "        for genre in valid_genres:\n",
    "            recommended.update(self.genre_movies[genre])\n",
    "\n",
    "        return self.movies[self.movies['movieId'].isin(list(recommended)[:n])]\n",
    "\n",
    "    def recommend_by_tags(self, tags, n=5):\n",
    "        \"\"\"Рекомендации по тегам\"\"\"\n",
    "        valid_tags = set(self.tag_movies.index) & set(tags)\n",
    "        if not valid_tags:\n",
    "            return self.recommend_popular(n)\n",
    "\n",
    "        recommended = set()\n",
    "        for tag in valid_tags:\n",
    "            recommended.update(self.tag_movies[tag])\n",
    "\n",
    "        return self.movies[self.movies['movieId'].isin(list(recommended)[:n])]\n",
    "\n",
    "    def recommend_popular(self, n=5):\n",
    "        \"\"\"Топ популярных фильмов\"\"\"\n",
    "        return self.movies[self.movies['movieId'].isin(self.top_movies[:n])]\n",
    "\n",
    "    def recommend_for_existing_user(self, user_id, n=5):\n",
    "        \"\"\"Рекомендации для известного пользователя\"\"\"\n",
    "        if user_id not in self.user_to_idx:\n",
    "            return self.recommend_popular(n)\n",
    "\n",
    "        # KNN модель\n",
    "        if not hasattr(self, 'knn_model'):\n",
    "            self.knn_model = NearestNeighbors(n_neighbors=20, metric='cosine', algorithm='brute')\n",
    "            self.knn_model.fit(self.interaction_matrix)\n",
    "\n",
    "        user_idx = self.user_to_idx[user_id]\n",
    "        _, indices = self.knn_model.kneighbors(self.interaction_matrix[user_idx])\n",
    "\n",
    "        # Похожие пользователи\n",
    "        similar_users = [list(self.user_to_idx.keys())[i] for i in indices.flatten()]\n",
    "\n",
    "        # Топ фильмов среди похожих пользователей\n",
    "        recommended = (\n",
    "            self.ratings[self.ratings['userId'].isin(similar_users)]\n",
    "            .groupby('movieId')['rating']\n",
    "            .mean()\n",
    "            .nlargest(n*2)\n",
    "        )\n",
    "\n",
    "        # Исключаем просмотренные\n",
    "        viewed = set(self.ratings[self.ratings['userId'] == user_id]['movieId'])\n",
    "        recommended_ids = [m for m in recommended.index if m not in viewed][:n]\n",
    "\n",
    "        if not recommended_ids:\n",
    "            return self.recommend_popular(n)\n",
    "\n",
    "        return self.movies[self.movies['movieId'].isin(recommended_ids)]\n",
    "\n",
    "    def recommend(self, user_id=None, genres=None, tags=None, n=5):\n",
    "        \"\"\"Универсальный метод рекомендаций\"\"\"\n",
    "        if user_id is None or user_id not in self.user_to_idx:\n",
    "            if genres:\n",
    "                return self.recommend_by_genres(genres, n)\n",
    "            elif tags:\n",
    "                return self.recommend_by_tags(tags, n)\n",
    "            else:\n",
    "                return self.recommend_popular(n)\n",
    "        return self.recommend_for_existing_user(user_id, n)\n",
    "\n",
    "# Пример использования\n",
    "if __name__ == \"__main__\":\n",
    "    recommender = MovieLensRecommender(n_users=2000, n_movies=1000)\n",
    "\n",
    "    # Для нового пользователя (холодный старт)\n",
    "    print(\"\\nРекомендации по жанрам ['Comedy', 'Drama']:\")\n",
    "    print(recommender.recommend(genres=['Comedy', 'Drama']).head())\n",
    "\n",
    "    print(\"\\nРекомендации по тегам ['funny', 'romantic']:\")\n",
    "    print(recommender.recommend(tags=['funny', 'romantic']).head())\n",
    "\n",
    "    print(\"\\nТоп популярных фильмов:\")\n",
    "    print(recommender.recommend().head())\n",
    "\n",
    "    # Для существующего пользователя\n",
    "    if recommender.ratings is not None:\n",
    "        test_user = recommender.ratings['userId'].iloc[0]\n",
    "        print(f\"\\nПерсонализированные рекомендации для пользователя {test_user}:\")\n",
    "        print(recommender.recommend(user_id=test_user).head())"
   ]
  },
  {
   "cell_type": "markdown",
   "metadata": {
    "id": "IohIDhjxm_ZM"
   },
   "source": [
    "_______________________________\n",
    "Описание работы системы для MovieLens (фильмы)\n",
    "**Для новых пользователей:**\n",
    "* По жанрам  \n",
    "Например, Comedy|Drama — рекомендует фильмы этих жанров из топа.\n",
    "\n",
    "* По тегам  \n",
    "Например, funny|romantic — использует теги из genome-tags.\n",
    "\n",
    "* Топ популярных  \n",
    "Фильмы с высоким средним рейтингом.\n",
    "\n",
    "**Для известных пользователей:**\n",
    "* KNN + Средний рейтинг  \n",
    "Ищет похожих пользователей и рекомендует фильмы с высокими оценками, которые текущий пользователь еще не смотрел."
   ]
  },
  {
   "cell_type": "markdown",
   "metadata": {},
   "source": [
    "# Выводы:"
   ]
  },
  {
   "cell_type": "markdown",
   "metadata": {},
   "source": [
    "* **Структура датасета существенно влияет на выбор подхода**: при соотношении «много пользователей — меньше объектов» (как в MovieLens) user-based модель работает нестабильно; item-based мог бы быть более устойчивым.\n",
    "\n",
    "* **Скорость и масштабируемость user-based модели приемлемы для небольших систем**, но могут не подойти для крупных платформ без дополнительной оптимизации.\n",
    "\n",
    "* **User-based коллаборативная фильтрация обеспечивает точные, но не полные рекомендации**: высокое Precision\\@5 (12.55%) при низком Recall\\@5 (6.43%) говорит о том, что модель хорошо угадывает единичные предпочтения, но пропускает значительную часть релевантного контента.\n",
    "\n",
    "* **Hit Rate\\@5 (47%) показывает практическую полезность модели**: почти каждый второй пользователь получает хотя бы одну полезную рекомендацию, что достаточно для сценариев с кратким списком рекомендаций (Top-5).\n",
    "\n",
    "* **Метрики Top-N рекомендаций отражают компромисс между точностью и полнотой**: высокая точность достигается за счёт жертвования recall — типичная ситуация при коротком списке рекомендаций.\n",
    "\n",
    "* **Проблема холодного старта остаётся критичной**: без информации о новых пользователях эффективность персонализированных моделей резко снижается. Использование популярности или контентных признаков — необходимые меры для обеспечения базового качества."
   ]
  },
  {
   "cell_type": "code",
   "execution_count": null,
   "metadata": {},
   "outputs": [],
   "source": []
  }
 ],
 "metadata": {
  "colab": {
   "provenance": [],
   "toc_visible": true
  },
  "kernelspec": {
   "display_name": "Python 3 (ipykernel)",
   "language": "python",
   "name": "python3"
  },
  "language_info": {
   "codemirror_mode": {
    "name": "ipython",
    "version": 3
   },
   "file_extension": ".py",
   "mimetype": "text/x-python",
   "name": "python",
   "nbconvert_exporter": "python",
   "pygments_lexer": "ipython3",
   "version": "3.12.4"
  }
 },
 "nbformat": 4,
 "nbformat_minor": 4
}
